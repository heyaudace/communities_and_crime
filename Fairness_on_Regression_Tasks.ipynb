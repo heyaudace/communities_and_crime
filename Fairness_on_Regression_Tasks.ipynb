{
 "cells": [
  {
   "cell_type": "code",
   "execution_count": 1,
   "metadata": {},
   "outputs": [
    {
     "name": "stdout",
     "output_type": "stream",
     "text": [
      "Fairness_on_Regression_Tasks.ipynb data_exploration.ipynb\r\n",
      "README.md                          dataset-cleaning.ipynb\r\n",
      "\u001b[34mdata\u001b[m\u001b[m                               \u001b[34mml_curated_data\u001b[m\u001b[m\r\n"
     ]
    }
   ],
   "source": [
    "!ls "
   ]
  },
  {
   "cell_type": "code",
   "execution_count": 2,
   "metadata": {},
   "outputs": [
    {
     "name": "stdout",
     "output_type": "stream",
     "text": [
      "data/communities.data\r\n",
      "data/communities.names\r\n",
      "data/communities_and_crime.csv\r\n",
      "data/communities_and_crime_clean.csv\r\n",
      "data/communities_and_crime_cleaner_no_unknowns.csv\r\n"
     ]
    }
   ],
   "source": [
    "!ls data/*"
   ]
  },
  {
   "cell_type": "code",
   "execution_count": 1,
   "metadata": {},
   "outputs": [
    {
     "name": "stderr",
     "output_type": "stream",
     "text": [
      "Using TensorFlow backend.\n"
     ]
    }
   ],
   "source": [
    "import tensorflow as tf\n",
    "import pandas as pd\n",
    "pd.options.display.max_rows = 10\n",
    "pd.options.display.float_format = '{:.5f}'.format\n",
    "tf.logging.set_verbosity(tf.logging.ERROR)\n",
    "from mpl_toolkits.mplot3d import Axes3D \n",
    "import matplotlib.pyplot as plt\n",
    "import math\n",
    "\n",
    "from IPython import display\n",
    "from matplotlib import cm\n",
    "from matplotlib import gridspec\n",
    "from matplotlib import pyplot as plt\n",
    "import keras\n",
    "\n",
    "from keras.layers import Dense\n",
    "from keras import optimizers\n",
    "from numpy.polynomial.polynomial import polyfit\n",
    "import numpy as np\n",
    "\n",
    "from keras.layers import Input, Dense\n",
    "from keras.models import Model\n",
    "from keras import backend as K\n",
    "\n",
    "from tensorflow.python.data import Dataset\n",
    "from sklearn import metrics\n",
    "tf.logging.set_verbosity(tf.logging.ERROR)"
   ]
  },
  {
   "cell_type": "code",
   "execution_count": 4,
   "metadata": {},
   "outputs": [],
   "source": [
    "data = pd.read_csv(\"data/communities_and_crime_clean.csv\")"
   ]
  },
  {
   "cell_type": "code",
   "execution_count": 5,
   "metadata": {},
   "outputs": [
    {
     "data": {
      "text/html": [
       "<div>\n",
       "<style scoped>\n",
       "    .dataframe tbody tr th:only-of-type {\n",
       "        vertical-align: middle;\n",
       "    }\n",
       "\n",
       "    .dataframe tbody tr th {\n",
       "        vertical-align: top;\n",
       "    }\n",
       "\n",
       "    .dataframe thead th {\n",
       "        text-align: right;\n",
       "    }\n",
       "</style>\n",
       "<table border=\"1\" class=\"dataframe\">\n",
       "  <thead>\n",
       "    <tr style=\"text-align: right;\">\n",
       "      <th></th>\n",
       "      <th>fold</th>\n",
       "      <th>population</th>\n",
       "      <th>householdsize</th>\n",
       "      <th>racepctblack</th>\n",
       "      <th>racePctWhite</th>\n",
       "      <th>racePctAsian</th>\n",
       "      <th>racePctHisp</th>\n",
       "      <th>agePct12t21</th>\n",
       "      <th>agePct12t29</th>\n",
       "      <th>agePct16t24</th>\n",
       "      <th>...</th>\n",
       "      <th>PctForeignBorn</th>\n",
       "      <th>PctBornSameState</th>\n",
       "      <th>PctSameHouse85</th>\n",
       "      <th>PctSameCity85</th>\n",
       "      <th>PctSameState85</th>\n",
       "      <th>LandArea</th>\n",
       "      <th>PopDens</th>\n",
       "      <th>PctUsePubTrans</th>\n",
       "      <th>LemasPctOfficDrugUn</th>\n",
       "      <th>ViolentCrimesPerPop</th>\n",
       "    </tr>\n",
       "  </thead>\n",
       "  <tbody>\n",
       "    <tr>\n",
       "      <th>0</th>\n",
       "      <td>1</td>\n",
       "      <td>0.19000</td>\n",
       "      <td>0.33000</td>\n",
       "      <td>0.02000</td>\n",
       "      <td>0.90000</td>\n",
       "      <td>0.12000</td>\n",
       "      <td>0.17000</td>\n",
       "      <td>0.34000</td>\n",
       "      <td>0.47000</td>\n",
       "      <td>0.29000</td>\n",
       "      <td>...</td>\n",
       "      <td>0.12000</td>\n",
       "      <td>0.42000</td>\n",
       "      <td>0.50000</td>\n",
       "      <td>0.51000</td>\n",
       "      <td>0.64000</td>\n",
       "      <td>0.12000</td>\n",
       "      <td>0.26000</td>\n",
       "      <td>0.20000</td>\n",
       "      <td>0.32000</td>\n",
       "      <td>0.20000</td>\n",
       "    </tr>\n",
       "    <tr>\n",
       "      <th>1</th>\n",
       "      <td>1</td>\n",
       "      <td>0.00000</td>\n",
       "      <td>0.16000</td>\n",
       "      <td>0.12000</td>\n",
       "      <td>0.74000</td>\n",
       "      <td>0.45000</td>\n",
       "      <td>0.07000</td>\n",
       "      <td>0.26000</td>\n",
       "      <td>0.59000</td>\n",
       "      <td>0.35000</td>\n",
       "      <td>...</td>\n",
       "      <td>0.21000</td>\n",
       "      <td>0.50000</td>\n",
       "      <td>0.34000</td>\n",
       "      <td>0.60000</td>\n",
       "      <td>0.52000</td>\n",
       "      <td>0.02000</td>\n",
       "      <td>0.12000</td>\n",
       "      <td>0.45000</td>\n",
       "      <td>0.00000</td>\n",
       "      <td>0.67000</td>\n",
       "    </tr>\n",
       "    <tr>\n",
       "      <th>2</th>\n",
       "      <td>1</td>\n",
       "      <td>0.00000</td>\n",
       "      <td>0.42000</td>\n",
       "      <td>0.49000</td>\n",
       "      <td>0.56000</td>\n",
       "      <td>0.17000</td>\n",
       "      <td>0.04000</td>\n",
       "      <td>0.39000</td>\n",
       "      <td>0.47000</td>\n",
       "      <td>0.28000</td>\n",
       "      <td>...</td>\n",
       "      <td>0.14000</td>\n",
       "      <td>0.49000</td>\n",
       "      <td>0.54000</td>\n",
       "      <td>0.67000</td>\n",
       "      <td>0.56000</td>\n",
       "      <td>0.01000</td>\n",
       "      <td>0.21000</td>\n",
       "      <td>0.02000</td>\n",
       "      <td>0.00000</td>\n",
       "      <td>0.43000</td>\n",
       "    </tr>\n",
       "    <tr>\n",
       "      <th>3</th>\n",
       "      <td>1</td>\n",
       "      <td>0.04000</td>\n",
       "      <td>0.77000</td>\n",
       "      <td>1.00000</td>\n",
       "      <td>0.08000</td>\n",
       "      <td>0.12000</td>\n",
       "      <td>0.10000</td>\n",
       "      <td>0.51000</td>\n",
       "      <td>0.50000</td>\n",
       "      <td>0.34000</td>\n",
       "      <td>...</td>\n",
       "      <td>0.19000</td>\n",
       "      <td>0.30000</td>\n",
       "      <td>0.73000</td>\n",
       "      <td>0.64000</td>\n",
       "      <td>0.65000</td>\n",
       "      <td>0.02000</td>\n",
       "      <td>0.39000</td>\n",
       "      <td>0.28000</td>\n",
       "      <td>0.00000</td>\n",
       "      <td>0.12000</td>\n",
       "    </tr>\n",
       "    <tr>\n",
       "      <th>4</th>\n",
       "      <td>1</td>\n",
       "      <td>0.01000</td>\n",
       "      <td>0.55000</td>\n",
       "      <td>0.02000</td>\n",
       "      <td>0.95000</td>\n",
       "      <td>0.09000</td>\n",
       "      <td>0.05000</td>\n",
       "      <td>0.38000</td>\n",
       "      <td>0.38000</td>\n",
       "      <td>0.23000</td>\n",
       "      <td>...</td>\n",
       "      <td>0.11000</td>\n",
       "      <td>0.72000</td>\n",
       "      <td>0.64000</td>\n",
       "      <td>0.61000</td>\n",
       "      <td>0.53000</td>\n",
       "      <td>0.04000</td>\n",
       "      <td>0.09000</td>\n",
       "      <td>0.02000</td>\n",
       "      <td>0.00000</td>\n",
       "      <td>0.03000</td>\n",
       "    </tr>\n",
       "  </tbody>\n",
       "</table>\n",
       "<p>5 rows × 101 columns</p>\n",
       "</div>"
      ],
      "text/plain": [
       "   fold  population  householdsize  racepctblack  racePctWhite  racePctAsian  \\\n",
       "0     1     0.19000        0.33000       0.02000       0.90000       0.12000   \n",
       "1     1     0.00000        0.16000       0.12000       0.74000       0.45000   \n",
       "2     1     0.00000        0.42000       0.49000       0.56000       0.17000   \n",
       "3     1     0.04000        0.77000       1.00000       0.08000       0.12000   \n",
       "4     1     0.01000        0.55000       0.02000       0.95000       0.09000   \n",
       "\n",
       "   racePctHisp  agePct12t21  agePct12t29  agePct16t24  ...  PctForeignBorn  \\\n",
       "0      0.17000      0.34000      0.47000      0.29000  ...         0.12000   \n",
       "1      0.07000      0.26000      0.59000      0.35000  ...         0.21000   \n",
       "2      0.04000      0.39000      0.47000      0.28000  ...         0.14000   \n",
       "3      0.10000      0.51000      0.50000      0.34000  ...         0.19000   \n",
       "4      0.05000      0.38000      0.38000      0.23000  ...         0.11000   \n",
       "\n",
       "   PctBornSameState  PctSameHouse85  PctSameCity85  PctSameState85  LandArea  \\\n",
       "0           0.42000         0.50000        0.51000         0.64000   0.12000   \n",
       "1           0.50000         0.34000        0.60000         0.52000   0.02000   \n",
       "2           0.49000         0.54000        0.67000         0.56000   0.01000   \n",
       "3           0.30000         0.73000        0.64000         0.65000   0.02000   \n",
       "4           0.72000         0.64000        0.61000         0.53000   0.04000   \n",
       "\n",
       "   PopDens  PctUsePubTrans  LemasPctOfficDrugUn  ViolentCrimesPerPop  \n",
       "0  0.26000         0.20000              0.32000              0.20000  \n",
       "1  0.12000         0.45000              0.00000              0.67000  \n",
       "2  0.21000         0.02000              0.00000              0.43000  \n",
       "3  0.39000         0.28000              0.00000              0.12000  \n",
       "4  0.09000         0.02000              0.00000              0.03000  \n",
       "\n",
       "[5 rows x 101 columns]"
      ]
     },
     "execution_count": 5,
     "metadata": {},
     "output_type": "execute_result"
    }
   ],
   "source": [
    "data.head()"
   ]
  },
  {
   "cell_type": "code",
   "execution_count": 6,
   "metadata": {},
   "outputs": [
    {
     "data": {
      "text/plain": [
       "(1994, 101)"
      ]
     },
     "execution_count": 6,
     "metadata": {},
     "output_type": "execute_result"
    }
   ],
   "source": [
    "data.shape"
   ]
  },
  {
   "cell_type": "code",
   "execution_count": 7,
   "metadata": {},
   "outputs": [],
   "source": [
    "data.to_csv(\"data/communities_and_crime_cleaner_no_unknowns.csv\")"
   ]
  },
  {
   "cell_type": "code",
   "execution_count": 8,
   "metadata": {},
   "outputs": [],
   "source": [
    "def train_test_split(data, folds=[10]):\n",
    "    folds = set(folds)\n",
    "    training_data = data.copy()\n",
    "    test_data = None\n",
    "    for fold_number in folds:\n",
    "        training_data = training_data[training_data.fold != fold_number]\n",
    "        new_test_data = data[data.fold == fold_number]\n",
    "        if test_data is None:\n",
    "            test_data = new_test_data\n",
    "        else:\n",
    "            test_data = pd.concat([test_data, new_test_data])\n",
    "    return training_data, test_data"
   ]
  },
  {
   "cell_type": "code",
   "execution_count": 9,
   "metadata": {},
   "outputs": [],
   "source": [
    "training_data, test_data = train_test_split(data, folds=[10])"
   ]
  },
  {
   "cell_type": "code",
   "execution_count": 10,
   "metadata": {},
   "outputs": [
    {
     "data": {
      "text/plain": [
       "((1795, 101), (199, 101))"
      ]
     },
     "execution_count": 10,
     "metadata": {},
     "output_type": "execute_result"
    }
   ],
   "source": [
    "training_data.shape,test_data.shape"
   ]
  },
  {
   "cell_type": "code",
   "execution_count": 11,
   "metadata": {},
   "outputs": [
    {
     "data": {
      "text/html": [
       "<div>\n",
       "<style scoped>\n",
       "    .dataframe tbody tr th:only-of-type {\n",
       "        vertical-align: middle;\n",
       "    }\n",
       "\n",
       "    .dataframe tbody tr th {\n",
       "        vertical-align: top;\n",
       "    }\n",
       "\n",
       "    .dataframe thead th {\n",
       "        text-align: right;\n",
       "    }\n",
       "</style>\n",
       "<table border=\"1\" class=\"dataframe\">\n",
       "  <thead>\n",
       "    <tr style=\"text-align: right;\">\n",
       "      <th></th>\n",
       "      <th>fold</th>\n",
       "      <th>population</th>\n",
       "      <th>householdsize</th>\n",
       "      <th>racepctblack</th>\n",
       "      <th>racePctWhite</th>\n",
       "      <th>racePctAsian</th>\n",
       "      <th>racePctHisp</th>\n",
       "      <th>agePct12t21</th>\n",
       "      <th>agePct12t29</th>\n",
       "      <th>agePct16t24</th>\n",
       "      <th>...</th>\n",
       "      <th>PctForeignBorn</th>\n",
       "      <th>PctBornSameState</th>\n",
       "      <th>PctSameHouse85</th>\n",
       "      <th>PctSameCity85</th>\n",
       "      <th>PctSameState85</th>\n",
       "      <th>LandArea</th>\n",
       "      <th>PopDens</th>\n",
       "      <th>PctUsePubTrans</th>\n",
       "      <th>LemasPctOfficDrugUn</th>\n",
       "      <th>ViolentCrimesPerPop</th>\n",
       "    </tr>\n",
       "  </thead>\n",
       "  <tbody>\n",
       "    <tr>\n",
       "      <th>count</th>\n",
       "      <td>1795.00000</td>\n",
       "      <td>1795.00000</td>\n",
       "      <td>1795.00000</td>\n",
       "      <td>1795.00000</td>\n",
       "      <td>1795.00000</td>\n",
       "      <td>1795.00000</td>\n",
       "      <td>1795.00000</td>\n",
       "      <td>1795.00000</td>\n",
       "      <td>1795.00000</td>\n",
       "      <td>1795.00000</td>\n",
       "      <td>...</td>\n",
       "      <td>1795.00000</td>\n",
       "      <td>1795.00000</td>\n",
       "      <td>1795.00000</td>\n",
       "      <td>1795.00000</td>\n",
       "      <td>1795.00000</td>\n",
       "      <td>1795.00000</td>\n",
       "      <td>1795.00000</td>\n",
       "      <td>1795.00000</td>\n",
       "      <td>1795.00000</td>\n",
       "      <td>1795.00000</td>\n",
       "    </tr>\n",
       "    <tr>\n",
       "      <th>mean</th>\n",
       "      <td>4.99443</td>\n",
       "      <td>0.05714</td>\n",
       "      <td>0.46432</td>\n",
       "      <td>0.17949</td>\n",
       "      <td>0.75329</td>\n",
       "      <td>0.15374</td>\n",
       "      <td>0.14490</td>\n",
       "      <td>0.42489</td>\n",
       "      <td>0.49388</td>\n",
       "      <td>0.33678</td>\n",
       "      <td>...</td>\n",
       "      <td>0.21590</td>\n",
       "      <td>0.60812</td>\n",
       "      <td>0.53499</td>\n",
       "      <td>0.62622</td>\n",
       "      <td>0.65119</td>\n",
       "      <td>0.06529</td>\n",
       "      <td>0.23136</td>\n",
       "      <td>0.16296</td>\n",
       "      <td>0.09469</td>\n",
       "      <td>0.23915</td>\n",
       "    </tr>\n",
       "    <tr>\n",
       "      <th>std</th>\n",
       "      <td>2.58306</td>\n",
       "      <td>0.12531</td>\n",
       "      <td>0.16463</td>\n",
       "      <td>0.25386</td>\n",
       "      <td>0.24489</td>\n",
       "      <td>0.20809</td>\n",
       "      <td>0.23371</td>\n",
       "      <td>0.15645</td>\n",
       "      <td>0.14433</td>\n",
       "      <td>0.16816</td>\n",
       "      <td>...</td>\n",
       "      <td>0.23148</td>\n",
       "      <td>0.20476</td>\n",
       "      <td>0.18160</td>\n",
       "      <td>0.20125</td>\n",
       "      <td>0.19869</td>\n",
       "      <td>0.10789</td>\n",
       "      <td>0.20144</td>\n",
       "      <td>0.22988</td>\n",
       "      <td>0.24097</td>\n",
       "      <td>0.23554</td>\n",
       "    </tr>\n",
       "    <tr>\n",
       "      <th>min</th>\n",
       "      <td>1.00000</td>\n",
       "      <td>0.00000</td>\n",
       "      <td>0.00000</td>\n",
       "      <td>0.00000</td>\n",
       "      <td>0.00000</td>\n",
       "      <td>0.00000</td>\n",
       "      <td>0.00000</td>\n",
       "      <td>0.00000</td>\n",
       "      <td>0.00000</td>\n",
       "      <td>0.00000</td>\n",
       "      <td>...</td>\n",
       "      <td>0.00000</td>\n",
       "      <td>0.00000</td>\n",
       "      <td>0.00000</td>\n",
       "      <td>0.00000</td>\n",
       "      <td>0.00000</td>\n",
       "      <td>0.00000</td>\n",
       "      <td>0.00000</td>\n",
       "      <td>0.00000</td>\n",
       "      <td>0.00000</td>\n",
       "      <td>0.00000</td>\n",
       "    </tr>\n",
       "    <tr>\n",
       "      <th>25%</th>\n",
       "      <td>3.00000</td>\n",
       "      <td>0.01000</td>\n",
       "      <td>0.35000</td>\n",
       "      <td>0.02000</td>\n",
       "      <td>0.63000</td>\n",
       "      <td>0.04000</td>\n",
       "      <td>0.01000</td>\n",
       "      <td>0.33000</td>\n",
       "      <td>0.41000</td>\n",
       "      <td>0.25000</td>\n",
       "      <td>...</td>\n",
       "      <td>0.06000</td>\n",
       "      <td>0.47000</td>\n",
       "      <td>0.42000</td>\n",
       "      <td>0.53000</td>\n",
       "      <td>0.56000</td>\n",
       "      <td>0.02000</td>\n",
       "      <td>0.10000</td>\n",
       "      <td>0.02000</td>\n",
       "      <td>0.00000</td>\n",
       "      <td>0.07000</td>\n",
       "    </tr>\n",
       "    <tr>\n",
       "      <th>50%</th>\n",
       "      <td>5.00000</td>\n",
       "      <td>0.02000</td>\n",
       "      <td>0.44000</td>\n",
       "      <td>0.06000</td>\n",
       "      <td>0.85000</td>\n",
       "      <td>0.08000</td>\n",
       "      <td>0.04000</td>\n",
       "      <td>0.40000</td>\n",
       "      <td>0.47000</td>\n",
       "      <td>0.29000</td>\n",
       "      <td>...</td>\n",
       "      <td>0.13000</td>\n",
       "      <td>0.63000</td>\n",
       "      <td>0.55000</td>\n",
       "      <td>0.67000</td>\n",
       "      <td>0.70000</td>\n",
       "      <td>0.04000</td>\n",
       "      <td>0.17000</td>\n",
       "      <td>0.07000</td>\n",
       "      <td>0.00000</td>\n",
       "      <td>0.15000</td>\n",
       "    </tr>\n",
       "    <tr>\n",
       "      <th>75%</th>\n",
       "      <td>7.00000</td>\n",
       "      <td>0.05000</td>\n",
       "      <td>0.54000</td>\n",
       "      <td>0.23000</td>\n",
       "      <td>0.94000</td>\n",
       "      <td>0.17000</td>\n",
       "      <td>0.16000</td>\n",
       "      <td>0.47000</td>\n",
       "      <td>0.54000</td>\n",
       "      <td>0.36000</td>\n",
       "      <td>...</td>\n",
       "      <td>0.28000</td>\n",
       "      <td>0.77500</td>\n",
       "      <td>0.66000</td>\n",
       "      <td>0.77000</td>\n",
       "      <td>0.79000</td>\n",
       "      <td>0.07000</td>\n",
       "      <td>0.28000</td>\n",
       "      <td>0.19000</td>\n",
       "      <td>0.00000</td>\n",
       "      <td>0.33000</td>\n",
       "    </tr>\n",
       "    <tr>\n",
       "      <th>max</th>\n",
       "      <td>9.00000</td>\n",
       "      <td>1.00000</td>\n",
       "      <td>1.00000</td>\n",
       "      <td>1.00000</td>\n",
       "      <td>1.00000</td>\n",
       "      <td>1.00000</td>\n",
       "      <td>1.00000</td>\n",
       "      <td>1.00000</td>\n",
       "      <td>1.00000</td>\n",
       "      <td>1.00000</td>\n",
       "      <td>...</td>\n",
       "      <td>1.00000</td>\n",
       "      <td>1.00000</td>\n",
       "      <td>0.99000</td>\n",
       "      <td>0.99000</td>\n",
       "      <td>1.00000</td>\n",
       "      <td>1.00000</td>\n",
       "      <td>1.00000</td>\n",
       "      <td>1.00000</td>\n",
       "      <td>1.00000</td>\n",
       "      <td>1.00000</td>\n",
       "    </tr>\n",
       "  </tbody>\n",
       "</table>\n",
       "<p>8 rows × 101 columns</p>\n",
       "</div>"
      ],
      "text/plain": [
       "            fold  population  householdsize  racepctblack  racePctWhite  \\\n",
       "count 1795.00000  1795.00000     1795.00000    1795.00000    1795.00000   \n",
       "mean     4.99443     0.05714        0.46432       0.17949       0.75329   \n",
       "std      2.58306     0.12531        0.16463       0.25386       0.24489   \n",
       "min      1.00000     0.00000        0.00000       0.00000       0.00000   \n",
       "25%      3.00000     0.01000        0.35000       0.02000       0.63000   \n",
       "50%      5.00000     0.02000        0.44000       0.06000       0.85000   \n",
       "75%      7.00000     0.05000        0.54000       0.23000       0.94000   \n",
       "max      9.00000     1.00000        1.00000       1.00000       1.00000   \n",
       "\n",
       "       racePctAsian  racePctHisp  agePct12t21  agePct12t29  agePct16t24  ...  \\\n",
       "count    1795.00000   1795.00000   1795.00000   1795.00000   1795.00000  ...   \n",
       "mean        0.15374      0.14490      0.42489      0.49388      0.33678  ...   \n",
       "std         0.20809      0.23371      0.15645      0.14433      0.16816  ...   \n",
       "min         0.00000      0.00000      0.00000      0.00000      0.00000  ...   \n",
       "25%         0.04000      0.01000      0.33000      0.41000      0.25000  ...   \n",
       "50%         0.08000      0.04000      0.40000      0.47000      0.29000  ...   \n",
       "75%         0.17000      0.16000      0.47000      0.54000      0.36000  ...   \n",
       "max         1.00000      1.00000      1.00000      1.00000      1.00000  ...   \n",
       "\n",
       "       PctForeignBorn  PctBornSameState  PctSameHouse85  PctSameCity85  \\\n",
       "count      1795.00000        1795.00000      1795.00000     1795.00000   \n",
       "mean          0.21590           0.60812         0.53499        0.62622   \n",
       "std           0.23148           0.20476         0.18160        0.20125   \n",
       "min           0.00000           0.00000         0.00000        0.00000   \n",
       "25%           0.06000           0.47000         0.42000        0.53000   \n",
       "50%           0.13000           0.63000         0.55000        0.67000   \n",
       "75%           0.28000           0.77500         0.66000        0.77000   \n",
       "max           1.00000           1.00000         0.99000        0.99000   \n",
       "\n",
       "       PctSameState85   LandArea    PopDens  PctUsePubTrans  \\\n",
       "count      1795.00000 1795.00000 1795.00000      1795.00000   \n",
       "mean          0.65119    0.06529    0.23136         0.16296   \n",
       "std           0.19869    0.10789    0.20144         0.22988   \n",
       "min           0.00000    0.00000    0.00000         0.00000   \n",
       "25%           0.56000    0.02000    0.10000         0.02000   \n",
       "50%           0.70000    0.04000    0.17000         0.07000   \n",
       "75%           0.79000    0.07000    0.28000         0.19000   \n",
       "max           1.00000    1.00000    1.00000         1.00000   \n",
       "\n",
       "       LemasPctOfficDrugUn  ViolentCrimesPerPop  \n",
       "count           1795.00000           1795.00000  \n",
       "mean               0.09469              0.23915  \n",
       "std                0.24097              0.23554  \n",
       "min                0.00000              0.00000  \n",
       "25%                0.00000              0.07000  \n",
       "50%                0.00000              0.15000  \n",
       "75%                0.00000              0.33000  \n",
       "max                1.00000              1.00000  \n",
       "\n",
       "[8 rows x 101 columns]"
      ]
     },
     "execution_count": 11,
     "metadata": {},
     "output_type": "execute_result"
    }
   ],
   "source": [
    "training_data.describe()"
   ]
  },
  {
   "cell_type": "code",
   "execution_count": 12,
   "metadata": {},
   "outputs": [
    {
     "ename": "KeyboardInterrupt",
     "evalue": "",
     "output_type": "error",
     "traceback": [
      "\u001b[0;31m---------------------------------------------------------------------------\u001b[0m",
      "\u001b[0;31mKeyboardInterrupt\u001b[0m                         Traceback (most recent call last)",
      "\u001b[0;32m<ipython-input-12-0777917ce040>\u001b[0m in \u001b[0;36m<module>\u001b[0;34m\u001b[0m\n\u001b[0;32m----> 1\u001b[0;31m \u001b[0mtest_data\u001b[0m\u001b[0;34m.\u001b[0m\u001b[0mdescribe\u001b[0m\u001b[0;34m(\u001b[0m\u001b[0;34m)\u001b[0m\u001b[0;34m\u001b[0m\u001b[0;34m\u001b[0m\u001b[0m\n\u001b[0m",
      "\u001b[0;32m~/anaconda3/lib/python3.7/site-packages/IPython/core/displayhook.py\u001b[0m in \u001b[0;36m__call__\u001b[0;34m(self, result)\u001b[0m\n\u001b[1;32m    255\u001b[0m             \u001b[0mself\u001b[0m\u001b[0;34m.\u001b[0m\u001b[0mstart_displayhook\u001b[0m\u001b[0;34m(\u001b[0m\u001b[0;34m)\u001b[0m\u001b[0;34m\u001b[0m\u001b[0;34m\u001b[0m\u001b[0m\n\u001b[1;32m    256\u001b[0m             \u001b[0mself\u001b[0m\u001b[0;34m.\u001b[0m\u001b[0mwrite_output_prompt\u001b[0m\u001b[0;34m(\u001b[0m\u001b[0;34m)\u001b[0m\u001b[0;34m\u001b[0m\u001b[0;34m\u001b[0m\u001b[0m\n\u001b[0;32m--> 257\u001b[0;31m             \u001b[0mformat_dict\u001b[0m\u001b[0;34m,\u001b[0m \u001b[0mmd_dict\u001b[0m \u001b[0;34m=\u001b[0m \u001b[0mself\u001b[0m\u001b[0;34m.\u001b[0m\u001b[0mcompute_format_data\u001b[0m\u001b[0;34m(\u001b[0m\u001b[0mresult\u001b[0m\u001b[0;34m)\u001b[0m\u001b[0;34m\u001b[0m\u001b[0;34m\u001b[0m\u001b[0m\n\u001b[0m\u001b[1;32m    258\u001b[0m             \u001b[0mself\u001b[0m\u001b[0;34m.\u001b[0m\u001b[0mupdate_user_ns\u001b[0m\u001b[0;34m(\u001b[0m\u001b[0mresult\u001b[0m\u001b[0;34m)\u001b[0m\u001b[0;34m\u001b[0m\u001b[0;34m\u001b[0m\u001b[0m\n\u001b[1;32m    259\u001b[0m             \u001b[0mself\u001b[0m\u001b[0;34m.\u001b[0m\u001b[0mfill_exec_result\u001b[0m\u001b[0;34m(\u001b[0m\u001b[0mresult\u001b[0m\u001b[0;34m)\u001b[0m\u001b[0;34m\u001b[0m\u001b[0;34m\u001b[0m\u001b[0m\n",
      "\u001b[0;32m~/anaconda3/lib/python3.7/site-packages/IPython/core/displayhook.py\u001b[0m in \u001b[0;36mcompute_format_data\u001b[0;34m(self, result)\u001b[0m\n\u001b[1;32m    149\u001b[0m \u001b[0;34m\u001b[0m\u001b[0m\n\u001b[1;32m    150\u001b[0m         \"\"\"\n\u001b[0;32m--> 151\u001b[0;31m         \u001b[0;32mreturn\u001b[0m \u001b[0mself\u001b[0m\u001b[0;34m.\u001b[0m\u001b[0mshell\u001b[0m\u001b[0;34m.\u001b[0m\u001b[0mdisplay_formatter\u001b[0m\u001b[0;34m.\u001b[0m\u001b[0mformat\u001b[0m\u001b[0;34m(\u001b[0m\u001b[0mresult\u001b[0m\u001b[0;34m)\u001b[0m\u001b[0;34m\u001b[0m\u001b[0;34m\u001b[0m\u001b[0m\n\u001b[0m\u001b[1;32m    152\u001b[0m \u001b[0;34m\u001b[0m\u001b[0m\n\u001b[1;32m    153\u001b[0m     \u001b[0;31m# This can be set to True by the write_output_prompt method in a subclass\u001b[0m\u001b[0;34m\u001b[0m\u001b[0;34m\u001b[0m\u001b[0;34m\u001b[0m\u001b[0m\n",
      "\u001b[0;32m~/anaconda3/lib/python3.7/site-packages/IPython/core/formatters.py\u001b[0m in \u001b[0;36mformat\u001b[0;34m(self, obj, include, exclude)\u001b[0m\n\u001b[1;32m    178\u001b[0m             \u001b[0mmd\u001b[0m \u001b[0;34m=\u001b[0m \u001b[0;32mNone\u001b[0m\u001b[0;34m\u001b[0m\u001b[0;34m\u001b[0m\u001b[0m\n\u001b[1;32m    179\u001b[0m             \u001b[0;32mtry\u001b[0m\u001b[0;34m:\u001b[0m\u001b[0;34m\u001b[0m\u001b[0;34m\u001b[0m\u001b[0m\n\u001b[0;32m--> 180\u001b[0;31m                 \u001b[0mdata\u001b[0m \u001b[0;34m=\u001b[0m \u001b[0mformatter\u001b[0m\u001b[0;34m(\u001b[0m\u001b[0mobj\u001b[0m\u001b[0;34m)\u001b[0m\u001b[0;34m\u001b[0m\u001b[0;34m\u001b[0m\u001b[0m\n\u001b[0m\u001b[1;32m    181\u001b[0m             \u001b[0;32mexcept\u001b[0m\u001b[0;34m:\u001b[0m\u001b[0;34m\u001b[0m\u001b[0;34m\u001b[0m\u001b[0m\n\u001b[1;32m    182\u001b[0m                 \u001b[0;31m# FIXME: log the exception\u001b[0m\u001b[0;34m\u001b[0m\u001b[0;34m\u001b[0m\u001b[0;34m\u001b[0m\u001b[0m\n",
      "\u001b[0;32m</Users/audace/anaconda3/lib/python3.7/site-packages/decorator.py:decorator-gen-10>\u001b[0m in \u001b[0;36m__call__\u001b[0;34m(self, obj)\u001b[0m\n",
      "\u001b[0;32m~/anaconda3/lib/python3.7/site-packages/IPython/core/formatters.py\u001b[0m in \u001b[0;36mcatch_format_error\u001b[0;34m(method, self, *args, **kwargs)\u001b[0m\n\u001b[1;32m    222\u001b[0m     \u001b[0;34m\"\"\"show traceback on failed format call\"\"\"\u001b[0m\u001b[0;34m\u001b[0m\u001b[0;34m\u001b[0m\u001b[0m\n\u001b[1;32m    223\u001b[0m     \u001b[0;32mtry\u001b[0m\u001b[0;34m:\u001b[0m\u001b[0;34m\u001b[0m\u001b[0;34m\u001b[0m\u001b[0m\n\u001b[0;32m--> 224\u001b[0;31m         \u001b[0mr\u001b[0m \u001b[0;34m=\u001b[0m \u001b[0mmethod\u001b[0m\u001b[0;34m(\u001b[0m\u001b[0mself\u001b[0m\u001b[0;34m,\u001b[0m \u001b[0;34m*\u001b[0m\u001b[0margs\u001b[0m\u001b[0;34m,\u001b[0m \u001b[0;34m**\u001b[0m\u001b[0mkwargs\u001b[0m\u001b[0;34m)\u001b[0m\u001b[0;34m\u001b[0m\u001b[0;34m\u001b[0m\u001b[0m\n\u001b[0m\u001b[1;32m    225\u001b[0m     \u001b[0;32mexcept\u001b[0m \u001b[0mNotImplementedError\u001b[0m\u001b[0;34m:\u001b[0m\u001b[0;34m\u001b[0m\u001b[0;34m\u001b[0m\u001b[0m\n\u001b[1;32m    226\u001b[0m         \u001b[0;31m# don't warn on NotImplementedErrors\u001b[0m\u001b[0;34m\u001b[0m\u001b[0;34m\u001b[0m\u001b[0;34m\u001b[0m\u001b[0m\n",
      "\u001b[0;32m~/anaconda3/lib/python3.7/site-packages/IPython/core/formatters.py\u001b[0m in \u001b[0;36m__call__\u001b[0;34m(self, obj)\u001b[0m\n\u001b[1;32m    700\u001b[0m                 \u001b[0mtype_pprinters\u001b[0m\u001b[0;34m=\u001b[0m\u001b[0mself\u001b[0m\u001b[0;34m.\u001b[0m\u001b[0mtype_printers\u001b[0m\u001b[0;34m,\u001b[0m\u001b[0;34m\u001b[0m\u001b[0;34m\u001b[0m\u001b[0m\n\u001b[1;32m    701\u001b[0m                 deferred_pprinters=self.deferred_printers)\n\u001b[0;32m--> 702\u001b[0;31m             \u001b[0mprinter\u001b[0m\u001b[0;34m.\u001b[0m\u001b[0mpretty\u001b[0m\u001b[0;34m(\u001b[0m\u001b[0mobj\u001b[0m\u001b[0;34m)\u001b[0m\u001b[0;34m\u001b[0m\u001b[0;34m\u001b[0m\u001b[0m\n\u001b[0m\u001b[1;32m    703\u001b[0m             \u001b[0mprinter\u001b[0m\u001b[0;34m.\u001b[0m\u001b[0mflush\u001b[0m\u001b[0;34m(\u001b[0m\u001b[0;34m)\u001b[0m\u001b[0;34m\u001b[0m\u001b[0;34m\u001b[0m\u001b[0m\n\u001b[1;32m    704\u001b[0m             \u001b[0;32mreturn\u001b[0m \u001b[0mstream\u001b[0m\u001b[0;34m.\u001b[0m\u001b[0mgetvalue\u001b[0m\u001b[0;34m(\u001b[0m\u001b[0;34m)\u001b[0m\u001b[0;34m\u001b[0m\u001b[0;34m\u001b[0m\u001b[0m\n",
      "\u001b[0;32m~/anaconda3/lib/python3.7/site-packages/IPython/lib/pretty.py\u001b[0m in \u001b[0;36mpretty\u001b[0;34m(self, obj)\u001b[0m\n\u001b[1;32m    400\u001b[0m                         \u001b[0;32mif\u001b[0m \u001b[0mcls\u001b[0m \u001b[0;32mis\u001b[0m \u001b[0;32mnot\u001b[0m \u001b[0mobject\u001b[0m\u001b[0;31m \u001b[0m\u001b[0;31m\\\u001b[0m\u001b[0;34m\u001b[0m\u001b[0;34m\u001b[0m\u001b[0m\n\u001b[1;32m    401\u001b[0m                                 \u001b[0;32mand\u001b[0m \u001b[0mcallable\u001b[0m\u001b[0;34m(\u001b[0m\u001b[0mcls\u001b[0m\u001b[0;34m.\u001b[0m\u001b[0m__dict__\u001b[0m\u001b[0;34m.\u001b[0m\u001b[0mget\u001b[0m\u001b[0;34m(\u001b[0m\u001b[0;34m'__repr__'\u001b[0m\u001b[0;34m)\u001b[0m\u001b[0;34m)\u001b[0m\u001b[0;34m:\u001b[0m\u001b[0;34m\u001b[0m\u001b[0;34m\u001b[0m\u001b[0m\n\u001b[0;32m--> 402\u001b[0;31m                             \u001b[0;32mreturn\u001b[0m \u001b[0m_repr_pprint\u001b[0m\u001b[0;34m(\u001b[0m\u001b[0mobj\u001b[0m\u001b[0;34m,\u001b[0m \u001b[0mself\u001b[0m\u001b[0;34m,\u001b[0m \u001b[0mcycle\u001b[0m\u001b[0;34m)\u001b[0m\u001b[0;34m\u001b[0m\u001b[0;34m\u001b[0m\u001b[0m\n\u001b[0m\u001b[1;32m    403\u001b[0m \u001b[0;34m\u001b[0m\u001b[0m\n\u001b[1;32m    404\u001b[0m             \u001b[0;32mreturn\u001b[0m \u001b[0m_default_pprint\u001b[0m\u001b[0;34m(\u001b[0m\u001b[0mobj\u001b[0m\u001b[0;34m,\u001b[0m \u001b[0mself\u001b[0m\u001b[0;34m,\u001b[0m \u001b[0mcycle\u001b[0m\u001b[0;34m)\u001b[0m\u001b[0;34m\u001b[0m\u001b[0;34m\u001b[0m\u001b[0m\n",
      "\u001b[0;32m~/anaconda3/lib/python3.7/site-packages/IPython/lib/pretty.py\u001b[0m in \u001b[0;36m_repr_pprint\u001b[0;34m(obj, p, cycle)\u001b[0m\n\u001b[1;32m    695\u001b[0m     \u001b[0;34m\"\"\"A pprint that just redirects to the normal repr function.\"\"\"\u001b[0m\u001b[0;34m\u001b[0m\u001b[0;34m\u001b[0m\u001b[0m\n\u001b[1;32m    696\u001b[0m     \u001b[0;31m# Find newlines and replace them with p.break_()\u001b[0m\u001b[0;34m\u001b[0m\u001b[0;34m\u001b[0m\u001b[0;34m\u001b[0m\u001b[0m\n\u001b[0;32m--> 697\u001b[0;31m     \u001b[0moutput\u001b[0m \u001b[0;34m=\u001b[0m \u001b[0mrepr\u001b[0m\u001b[0;34m(\u001b[0m\u001b[0mobj\u001b[0m\u001b[0;34m)\u001b[0m\u001b[0;34m\u001b[0m\u001b[0;34m\u001b[0m\u001b[0m\n\u001b[0m\u001b[1;32m    698\u001b[0m     \u001b[0;32mfor\u001b[0m \u001b[0midx\u001b[0m\u001b[0;34m,\u001b[0m\u001b[0moutput_line\u001b[0m \u001b[0;32min\u001b[0m \u001b[0menumerate\u001b[0m\u001b[0;34m(\u001b[0m\u001b[0moutput\u001b[0m\u001b[0;34m.\u001b[0m\u001b[0msplitlines\u001b[0m\u001b[0;34m(\u001b[0m\u001b[0;34m)\u001b[0m\u001b[0;34m)\u001b[0m\u001b[0;34m:\u001b[0m\u001b[0;34m\u001b[0m\u001b[0;34m\u001b[0m\u001b[0m\n\u001b[1;32m    699\u001b[0m         \u001b[0;32mif\u001b[0m \u001b[0midx\u001b[0m\u001b[0;34m:\u001b[0m\u001b[0;34m\u001b[0m\u001b[0;34m\u001b[0m\u001b[0m\n",
      "\u001b[0;32m~/anaconda3/lib/python3.7/site-packages/pandas/core/base.py\u001b[0m in \u001b[0;36m__repr__\u001b[0;34m(self)\u001b[0m\n\u001b[1;32m     76\u001b[0m         \u001b[0mYields\u001b[0m \u001b[0mBytestring\u001b[0m \u001b[0;32min\u001b[0m \u001b[0mPy2\u001b[0m\u001b[0;34m,\u001b[0m \u001b[0mUnicode\u001b[0m \u001b[0mString\u001b[0m \u001b[0;32min\u001b[0m \u001b[0mpy3\u001b[0m\u001b[0;34m.\u001b[0m\u001b[0;34m\u001b[0m\u001b[0;34m\u001b[0m\u001b[0m\n\u001b[1;32m     77\u001b[0m         \"\"\"\n\u001b[0;32m---> 78\u001b[0;31m         \u001b[0;32mreturn\u001b[0m \u001b[0mstr\u001b[0m\u001b[0;34m(\u001b[0m\u001b[0mself\u001b[0m\u001b[0;34m)\u001b[0m\u001b[0;34m\u001b[0m\u001b[0;34m\u001b[0m\u001b[0m\n\u001b[0m\u001b[1;32m     79\u001b[0m \u001b[0;34m\u001b[0m\u001b[0m\n\u001b[1;32m     80\u001b[0m \u001b[0;34m\u001b[0m\u001b[0m\n",
      "\u001b[0;32m~/anaconda3/lib/python3.7/site-packages/pandas/core/base.py\u001b[0m in \u001b[0;36m__str__\u001b[0;34m(self)\u001b[0m\n\u001b[1;32m     55\u001b[0m \u001b[0;34m\u001b[0m\u001b[0m\n\u001b[1;32m     56\u001b[0m         \u001b[0;32mif\u001b[0m \u001b[0mcompat\u001b[0m\u001b[0;34m.\u001b[0m\u001b[0mPY3\u001b[0m\u001b[0;34m:\u001b[0m\u001b[0;34m\u001b[0m\u001b[0;34m\u001b[0m\u001b[0m\n\u001b[0;32m---> 57\u001b[0;31m             \u001b[0;32mreturn\u001b[0m \u001b[0mself\u001b[0m\u001b[0;34m.\u001b[0m\u001b[0m__unicode__\u001b[0m\u001b[0;34m(\u001b[0m\u001b[0;34m)\u001b[0m\u001b[0;34m\u001b[0m\u001b[0;34m\u001b[0m\u001b[0m\n\u001b[0m\u001b[1;32m     58\u001b[0m         \u001b[0;32mreturn\u001b[0m \u001b[0mself\u001b[0m\u001b[0;34m.\u001b[0m\u001b[0m__bytes__\u001b[0m\u001b[0;34m(\u001b[0m\u001b[0;34m)\u001b[0m\u001b[0;34m\u001b[0m\u001b[0;34m\u001b[0m\u001b[0m\n\u001b[1;32m     59\u001b[0m \u001b[0;34m\u001b[0m\u001b[0m\n",
      "\u001b[0;32m~/anaconda3/lib/python3.7/site-packages/pandas/core/frame.py\u001b[0m in \u001b[0;36m__unicode__\u001b[0;34m(self)\u001b[0m\n\u001b[1;32m    632\u001b[0m             \u001b[0mwidth\u001b[0m \u001b[0;34m=\u001b[0m \u001b[0;32mNone\u001b[0m\u001b[0;34m\u001b[0m\u001b[0;34m\u001b[0m\u001b[0m\n\u001b[1;32m    633\u001b[0m         self.to_string(buf=buf, max_rows=max_rows, max_cols=max_cols,\n\u001b[0;32m--> 634\u001b[0;31m                        line_width=width, show_dimensions=show_dimensions)\n\u001b[0m\u001b[1;32m    635\u001b[0m \u001b[0;34m\u001b[0m\u001b[0m\n\u001b[1;32m    636\u001b[0m         \u001b[0;32mreturn\u001b[0m \u001b[0mbuf\u001b[0m\u001b[0;34m.\u001b[0m\u001b[0mgetvalue\u001b[0m\u001b[0;34m(\u001b[0m\u001b[0;34m)\u001b[0m\u001b[0;34m\u001b[0m\u001b[0;34m\u001b[0m\u001b[0m\n",
      "\u001b[0;32m~/anaconda3/lib/python3.7/site-packages/pandas/core/frame.py\u001b[0m in \u001b[0;36mto_string\u001b[0;34m(self, buf, columns, col_space, header, index, na_rep, formatters, float_format, sparsify, index_names, justify, max_rows, max_cols, show_dimensions, decimal, line_width)\u001b[0m\n\u001b[1;32m    718\u001b[0m                                            \u001b[0mshow_dimensions\u001b[0m\u001b[0;34m=\u001b[0m\u001b[0mshow_dimensions\u001b[0m\u001b[0;34m,\u001b[0m\u001b[0;34m\u001b[0m\u001b[0;34m\u001b[0m\u001b[0m\n\u001b[1;32m    719\u001b[0m                                            \u001b[0mdecimal\u001b[0m\u001b[0;34m=\u001b[0m\u001b[0mdecimal\u001b[0m\u001b[0;34m,\u001b[0m\u001b[0;34m\u001b[0m\u001b[0;34m\u001b[0m\u001b[0m\n\u001b[0;32m--> 720\u001b[0;31m                                            line_width=line_width)\n\u001b[0m\u001b[1;32m    721\u001b[0m         \u001b[0mformatter\u001b[0m\u001b[0;34m.\u001b[0m\u001b[0mto_string\u001b[0m\u001b[0;34m(\u001b[0m\u001b[0;34m)\u001b[0m\u001b[0;34m\u001b[0m\u001b[0;34m\u001b[0m\u001b[0m\n\u001b[1;32m    722\u001b[0m \u001b[0;34m\u001b[0m\u001b[0m\n",
      "\u001b[0;32m~/anaconda3/lib/python3.7/site-packages/pandas/io/formats/format.py\u001b[0m in \u001b[0;36m__init__\u001b[0;34m(self, frame, buf, columns, col_space, header, index, na_rep, formatters, justify, float_format, sparsify, index_names, line_width, max_rows, max_cols, show_dimensions, decimal, table_id, render_links, **kwds)\u001b[0m\n\u001b[1;32m    426\u001b[0m             \u001b[0mself\u001b[0m\u001b[0;34m.\u001b[0m\u001b[0mcolumns\u001b[0m \u001b[0;34m=\u001b[0m \u001b[0mframe\u001b[0m\u001b[0;34m.\u001b[0m\u001b[0mcolumns\u001b[0m\u001b[0;34m\u001b[0m\u001b[0;34m\u001b[0m\u001b[0m\n\u001b[1;32m    427\u001b[0m \u001b[0;34m\u001b[0m\u001b[0m\n\u001b[0;32m--> 428\u001b[0;31m         \u001b[0mself\u001b[0m\u001b[0;34m.\u001b[0m\u001b[0m_chk_truncate\u001b[0m\u001b[0;34m(\u001b[0m\u001b[0;34m)\u001b[0m\u001b[0;34m\u001b[0m\u001b[0;34m\u001b[0m\u001b[0m\n\u001b[0m\u001b[1;32m    429\u001b[0m         \u001b[0mself\u001b[0m\u001b[0;34m.\u001b[0m\u001b[0madj\u001b[0m \u001b[0;34m=\u001b[0m \u001b[0m_get_adjustment\u001b[0m\u001b[0;34m(\u001b[0m\u001b[0;34m)\u001b[0m\u001b[0;34m\u001b[0m\u001b[0;34m\u001b[0m\u001b[0m\n\u001b[1;32m    430\u001b[0m \u001b[0;34m\u001b[0m\u001b[0m\n",
      "\u001b[0;32m~/anaconda3/lib/python3.7/site-packages/pandas/io/formats/format.py\u001b[0m in \u001b[0;36m_chk_truncate\u001b[0;34m(self)\u001b[0m\n\u001b[1;32m    483\u001b[0m             \u001b[0;32melse\u001b[0m\u001b[0;34m:\u001b[0m\u001b[0;34m\u001b[0m\u001b[0;34m\u001b[0m\u001b[0m\n\u001b[1;32m    484\u001b[0m                 \u001b[0mcol_num\u001b[0m \u001b[0;34m=\u001b[0m \u001b[0;34m(\u001b[0m\u001b[0mmax_cols_adj\u001b[0m \u001b[0;34m//\u001b[0m \u001b[0;36m2\u001b[0m\u001b[0;34m)\u001b[0m\u001b[0;34m\u001b[0m\u001b[0;34m\u001b[0m\u001b[0m\n\u001b[0;32m--> 485\u001b[0;31m                 frame = concat((frame.iloc[:, :col_num],\n\u001b[0m\u001b[1;32m    486\u001b[0m                                 frame.iloc[:, -col_num:]), axis=1)\n\u001b[1;32m    487\u001b[0m             \u001b[0mself\u001b[0m\u001b[0;34m.\u001b[0m\u001b[0mtr_col_num\u001b[0m \u001b[0;34m=\u001b[0m \u001b[0mcol_num\u001b[0m\u001b[0;34m\u001b[0m\u001b[0;34m\u001b[0m\u001b[0m\n",
      "\u001b[0;32m~/anaconda3/lib/python3.7/site-packages/pandas/core/indexing.py\u001b[0m in \u001b[0;36m__getitem__\u001b[0;34m(self, key)\u001b[0m\n\u001b[1;32m   1492\u001b[0m             \u001b[0;32mexcept\u001b[0m \u001b[0;34m(\u001b[0m\u001b[0mKeyError\u001b[0m\u001b[0;34m,\u001b[0m \u001b[0mIndexError\u001b[0m\u001b[0;34m,\u001b[0m \u001b[0mAttributeError\u001b[0m\u001b[0;34m)\u001b[0m\u001b[0;34m:\u001b[0m\u001b[0;34m\u001b[0m\u001b[0;34m\u001b[0m\u001b[0m\n\u001b[1;32m   1493\u001b[0m                 \u001b[0;32mpass\u001b[0m\u001b[0;34m\u001b[0m\u001b[0;34m\u001b[0m\u001b[0m\n\u001b[0;32m-> 1494\u001b[0;31m             \u001b[0;32mreturn\u001b[0m \u001b[0mself\u001b[0m\u001b[0;34m.\u001b[0m\u001b[0m_getitem_tuple\u001b[0m\u001b[0;34m(\u001b[0m\u001b[0mkey\u001b[0m\u001b[0;34m)\u001b[0m\u001b[0;34m\u001b[0m\u001b[0;34m\u001b[0m\u001b[0m\n\u001b[0m\u001b[1;32m   1495\u001b[0m         \u001b[0;32melse\u001b[0m\u001b[0;34m:\u001b[0m\u001b[0;34m\u001b[0m\u001b[0;34m\u001b[0m\u001b[0m\n\u001b[1;32m   1496\u001b[0m             \u001b[0;31m# we by definition only have the 0th axis\u001b[0m\u001b[0;34m\u001b[0m\u001b[0;34m\u001b[0m\u001b[0;34m\u001b[0m\u001b[0m\n",
      "\u001b[0;32m~/anaconda3/lib/python3.7/site-packages/pandas/core/indexing.py\u001b[0m in \u001b[0;36m_getitem_tuple\u001b[0;34m(self, tup)\u001b[0m\n\u001b[1;32m   2141\u001b[0m     \u001b[0;32mdef\u001b[0m \u001b[0m_getitem_tuple\u001b[0m\u001b[0;34m(\u001b[0m\u001b[0mself\u001b[0m\u001b[0;34m,\u001b[0m \u001b[0mtup\u001b[0m\u001b[0;34m)\u001b[0m\u001b[0;34m:\u001b[0m\u001b[0;34m\u001b[0m\u001b[0;34m\u001b[0m\u001b[0m\n\u001b[1;32m   2142\u001b[0m \u001b[0;34m\u001b[0m\u001b[0m\n\u001b[0;32m-> 2143\u001b[0;31m         \u001b[0mself\u001b[0m\u001b[0;34m.\u001b[0m\u001b[0m_has_valid_tuple\u001b[0m\u001b[0;34m(\u001b[0m\u001b[0mtup\u001b[0m\u001b[0;34m)\u001b[0m\u001b[0;34m\u001b[0m\u001b[0;34m\u001b[0m\u001b[0m\n\u001b[0m\u001b[1;32m   2144\u001b[0m         \u001b[0;32mtry\u001b[0m\u001b[0;34m:\u001b[0m\u001b[0;34m\u001b[0m\u001b[0;34m\u001b[0m\u001b[0m\n\u001b[1;32m   2145\u001b[0m             \u001b[0;32mreturn\u001b[0m \u001b[0mself\u001b[0m\u001b[0;34m.\u001b[0m\u001b[0m_getitem_lowerdim\u001b[0m\u001b[0;34m(\u001b[0m\u001b[0mtup\u001b[0m\u001b[0;34m)\u001b[0m\u001b[0;34m\u001b[0m\u001b[0;34m\u001b[0m\u001b[0m\n",
      "\u001b[0;32m~/anaconda3/lib/python3.7/site-packages/pandas/core/indexing.py\u001b[0m in \u001b[0;36m_has_valid_tuple\u001b[0;34m(self, key)\u001b[0m\n\u001b[1;32m    221\u001b[0m                 \u001b[0;32mraise\u001b[0m \u001b[0mIndexingError\u001b[0m\u001b[0;34m(\u001b[0m\u001b[0;34m'Too many indexers'\u001b[0m\u001b[0;34m)\u001b[0m\u001b[0;34m\u001b[0m\u001b[0;34m\u001b[0m\u001b[0m\n\u001b[1;32m    222\u001b[0m             \u001b[0;32mtry\u001b[0m\u001b[0;34m:\u001b[0m\u001b[0;34m\u001b[0m\u001b[0;34m\u001b[0m\u001b[0m\n\u001b[0;32m--> 223\u001b[0;31m                 \u001b[0mself\u001b[0m\u001b[0;34m.\u001b[0m\u001b[0m_validate_key\u001b[0m\u001b[0;34m(\u001b[0m\u001b[0mk\u001b[0m\u001b[0;34m,\u001b[0m \u001b[0mi\u001b[0m\u001b[0;34m)\u001b[0m\u001b[0;34m\u001b[0m\u001b[0;34m\u001b[0m\u001b[0m\n\u001b[0m\u001b[1;32m    224\u001b[0m             \u001b[0;32mexcept\u001b[0m \u001b[0mValueError\u001b[0m\u001b[0;34m:\u001b[0m\u001b[0;34m\u001b[0m\u001b[0;34m\u001b[0m\u001b[0m\n\u001b[1;32m    225\u001b[0m                 raise ValueError(\"Location based indexing can only have \"\n",
      "\u001b[0;32m~/anaconda3/lib/python3.7/site-packages/pandas/core/indexing.py\u001b[0m in \u001b[0;36m_validate_key\u001b[0;34m(self, key, axis)\u001b[0m\n\u001b[1;32m   2055\u001b[0m \u001b[0;34m\u001b[0m\u001b[0m\n\u001b[1;32m   2056\u001b[0m     \u001b[0;32mdef\u001b[0m \u001b[0m_validate_key\u001b[0m\u001b[0;34m(\u001b[0m\u001b[0mself\u001b[0m\u001b[0;34m,\u001b[0m \u001b[0mkey\u001b[0m\u001b[0;34m,\u001b[0m \u001b[0maxis\u001b[0m\u001b[0;34m)\u001b[0m\u001b[0;34m:\u001b[0m\u001b[0;34m\u001b[0m\u001b[0;34m\u001b[0m\u001b[0m\n\u001b[0;32m-> 2057\u001b[0;31m         \u001b[0;32mif\u001b[0m \u001b[0mcom\u001b[0m\u001b[0;34m.\u001b[0m\u001b[0mis_bool_indexer\u001b[0m\u001b[0;34m(\u001b[0m\u001b[0mkey\u001b[0m\u001b[0;34m)\u001b[0m\u001b[0;34m:\u001b[0m\u001b[0;34m\u001b[0m\u001b[0;34m\u001b[0m\u001b[0m\n\u001b[0m\u001b[1;32m   2058\u001b[0m             \u001b[0;32mif\u001b[0m \u001b[0mhasattr\u001b[0m\u001b[0;34m(\u001b[0m\u001b[0mkey\u001b[0m\u001b[0;34m,\u001b[0m \u001b[0;34m'index'\u001b[0m\u001b[0;34m)\u001b[0m \u001b[0;32mand\u001b[0m \u001b[0misinstance\u001b[0m\u001b[0;34m(\u001b[0m\u001b[0mkey\u001b[0m\u001b[0;34m.\u001b[0m\u001b[0mindex\u001b[0m\u001b[0;34m,\u001b[0m \u001b[0mIndex\u001b[0m\u001b[0;34m)\u001b[0m\u001b[0;34m:\u001b[0m\u001b[0;34m\u001b[0m\u001b[0;34m\u001b[0m\u001b[0m\n\u001b[1;32m   2059\u001b[0m                 \u001b[0;32mif\u001b[0m \u001b[0mkey\u001b[0m\u001b[0;34m.\u001b[0m\u001b[0mindex\u001b[0m\u001b[0;34m.\u001b[0m\u001b[0minferred_type\u001b[0m \u001b[0;34m==\u001b[0m \u001b[0;34m'integer'\u001b[0m\u001b[0;34m:\u001b[0m\u001b[0;34m\u001b[0m\u001b[0;34m\u001b[0m\u001b[0m\n",
      "\u001b[0;32m~/anaconda3/lib/python3.7/site-packages/pandas/core/common.py\u001b[0m in \u001b[0;36mis_bool_indexer\u001b[0;34m(key)\u001b[0m\n\u001b[1;32m    116\u001b[0m     \u001b[0mna_msg\u001b[0m \u001b[0;34m=\u001b[0m \u001b[0;34m'cannot index with vector containing NA / NaN values'\u001b[0m\u001b[0;34m\u001b[0m\u001b[0;34m\u001b[0m\u001b[0m\n\u001b[1;32m    117\u001b[0m     if (isinstance(key, (ABCSeries, np.ndarray, ABCIndex)) or\n\u001b[0;32m--> 118\u001b[0;31m             (is_array_like(key) and is_extension_array_dtype(key.dtype))):\n\u001b[0m\u001b[1;32m    119\u001b[0m         \u001b[0;32mif\u001b[0m \u001b[0mkey\u001b[0m\u001b[0;34m.\u001b[0m\u001b[0mdtype\u001b[0m \u001b[0;34m==\u001b[0m \u001b[0mnp\u001b[0m\u001b[0;34m.\u001b[0m\u001b[0mobject_\u001b[0m\u001b[0;34m:\u001b[0m\u001b[0;34m\u001b[0m\u001b[0;34m\u001b[0m\u001b[0m\n\u001b[1;32m    120\u001b[0m             \u001b[0mkey\u001b[0m \u001b[0;34m=\u001b[0m \u001b[0mnp\u001b[0m\u001b[0;34m.\u001b[0m\u001b[0masarray\u001b[0m\u001b[0;34m(\u001b[0m\u001b[0mvalues_from_object\u001b[0m\u001b[0;34m(\u001b[0m\u001b[0mkey\u001b[0m\u001b[0;34m)\u001b[0m\u001b[0;34m)\u001b[0m\u001b[0;34m\u001b[0m\u001b[0;34m\u001b[0m\u001b[0m\n",
      "\u001b[0;32m~/anaconda3/lib/python3.7/site-packages/pandas/core/dtypes/inference.py\u001b[0m in \u001b[0;36mis_array_like\u001b[0;34m(obj)\u001b[0m\n\u001b[1;32m    332\u001b[0m     \"\"\"\n\u001b[1;32m    333\u001b[0m \u001b[0;34m\u001b[0m\u001b[0m\n\u001b[0;32m--> 334\u001b[0;31m     \u001b[0;32mreturn\u001b[0m \u001b[0mis_list_like\u001b[0m\u001b[0;34m(\u001b[0m\u001b[0mobj\u001b[0m\u001b[0;34m)\u001b[0m \u001b[0;32mand\u001b[0m \u001b[0mhasattr\u001b[0m\u001b[0;34m(\u001b[0m\u001b[0mobj\u001b[0m\u001b[0;34m,\u001b[0m \u001b[0;34m\"dtype\"\u001b[0m\u001b[0;34m)\u001b[0m\u001b[0;34m\u001b[0m\u001b[0;34m\u001b[0m\u001b[0m\n\u001b[0m\u001b[1;32m    335\u001b[0m \u001b[0;34m\u001b[0m\u001b[0m\n\u001b[1;32m    336\u001b[0m \u001b[0;34m\u001b[0m\u001b[0m\n",
      "\u001b[0;32m~/anaconda3/lib/python3.7/site-packages/pandas/core/dtypes/inference.py\u001b[0m in \u001b[0;36mis_list_like\u001b[0;34m(obj, allow_sets)\u001b[0m\n\u001b[1;32m    291\u001b[0m     \"\"\"\n\u001b[1;32m    292\u001b[0m \u001b[0;34m\u001b[0m\u001b[0m\n\u001b[0;32m--> 293\u001b[0;31m     return (isinstance(obj, compat.Iterable)\n\u001b[0m\u001b[1;32m    294\u001b[0m             \u001b[0;31m# we do not count strings/unicode/bytes as list-like\u001b[0m\u001b[0;34m\u001b[0m\u001b[0;34m\u001b[0m\u001b[0;34m\u001b[0m\u001b[0m\n\u001b[1;32m    295\u001b[0m             \u001b[0;32mand\u001b[0m \u001b[0;32mnot\u001b[0m \u001b[0misinstance\u001b[0m\u001b[0;34m(\u001b[0m\u001b[0mobj\u001b[0m\u001b[0;34m,\u001b[0m \u001b[0mstring_and_binary_types\u001b[0m\u001b[0;34m)\u001b[0m\u001b[0;34m\u001b[0m\u001b[0;34m\u001b[0m\u001b[0m\n",
      "\u001b[0;32m~/anaconda3/lib/python3.7/abc.py\u001b[0m in \u001b[0;36m__instancecheck__\u001b[0;34m(cls, instance)\u001b[0m\n\u001b[1;32m    135\u001b[0m             \u001b[0;32mreturn\u001b[0m \u001b[0m_abc_register\u001b[0m\u001b[0;34m(\u001b[0m\u001b[0mcls\u001b[0m\u001b[0;34m,\u001b[0m \u001b[0msubclass\u001b[0m\u001b[0;34m)\u001b[0m\u001b[0;34m\u001b[0m\u001b[0;34m\u001b[0m\u001b[0m\n\u001b[1;32m    136\u001b[0m \u001b[0;34m\u001b[0m\u001b[0m\n\u001b[0;32m--> 137\u001b[0;31m         \u001b[0;32mdef\u001b[0m \u001b[0m__instancecheck__\u001b[0m\u001b[0;34m(\u001b[0m\u001b[0mcls\u001b[0m\u001b[0;34m,\u001b[0m \u001b[0minstance\u001b[0m\u001b[0;34m)\u001b[0m\u001b[0;34m:\u001b[0m\u001b[0;34m\u001b[0m\u001b[0;34m\u001b[0m\u001b[0m\n\u001b[0m\u001b[1;32m    138\u001b[0m             \u001b[0;34m\"\"\"Override for isinstance(instance, cls).\"\"\"\u001b[0m\u001b[0;34m\u001b[0m\u001b[0;34m\u001b[0m\u001b[0m\n\u001b[1;32m    139\u001b[0m             \u001b[0;32mreturn\u001b[0m \u001b[0m_abc_instancecheck\u001b[0m\u001b[0;34m(\u001b[0m\u001b[0mcls\u001b[0m\u001b[0;34m,\u001b[0m \u001b[0minstance\u001b[0m\u001b[0;34m)\u001b[0m\u001b[0;34m\u001b[0m\u001b[0;34m\u001b[0m\u001b[0m\n",
      "\u001b[0;31mKeyboardInterrupt\u001b[0m: "
     ]
    }
   ],
   "source": [
    "test_data.describe()"
   ]
  },
  {
   "cell_type": "markdown",
   "metadata": {},
   "source": [
    "### Violent crimes per population "
   ]
  },
  {
   "cell_type": "code",
   "execution_count": null,
   "metadata": {},
   "outputs": [],
   "source": [
    "\n",
    "fig = plt.figure(figsize=(20, 8))\n",
    "ax = fig.add_subplot(131)\n",
    "ax.set_title(\"Training Data - racePctWhite vs racePctBlack\")\n",
    "ax.set_autoscaley_on(False)\n",
    "ax.set_ylim([0, 1])\n",
    "ax.set_autoscalex_on(False)\n",
    "ax.set_xlim([0, 1])\n",
    "\n",
    "ax.set_xlabel(\"racepctblack\")\n",
    "ax.set_ylabel(\"racePctWhite\")\n",
    "\n",
    "plt.scatter(training_data['racepctblack'],training_data['racePctWhite'], cmap='coolwarm', c=training_data['ViolentCrimesPerPop'])\n",
    "\n",
    "ax = plt.subplot(1, 3, 2)\n",
    "ax.set_title(\"Training Data - racePctWhite vs racePctAsian\")\n",
    "ax.set_autoscaley_on(False)\n",
    "ax.set_ylim([0, 1])\n",
    "ax.set_autoscalex_on(False)\n",
    "ax.set_xlim([0, 1])\n",
    "\n",
    "ax.set_xlabel(\"racepctAsian\")\n",
    "ax.set_ylabel(\"racePctWhite\")\n",
    "\n",
    "plt.scatter(training_data['racePctAsian'], training_data['racePctWhite'], cmap='coolwarm', c=training_data['ViolentCrimesPerPop'])\n",
    "\n",
    "ax = plt.subplot(1, 3, 3)\n",
    "ax.set_title(\"Training Data - racePctWhite vs racePctHispanic\")\n",
    "ax.set_autoscaley_on(False)\n",
    "ax.set_ylim([0, 1])\n",
    "ax.set_autoscalex_on(False)\n",
    "ax.set_xlim([0, 1])\n",
    "\n",
    "plt.scatter(training_data['racePctHisp'], training_data['racePctWhite'], cmap='coolwarm', c=training_data['ViolentCrimesPerPop'])\n",
    "ax.set_xlabel(\"racepctHisp\")\n",
    "ax.set_ylabel(\"racePctWhite\")\n",
    "\n",
    "\n",
    "## For validation data\n",
    "\n",
    "\n",
    "fig = plt.figure(figsize=(20, 8))\n",
    "ax = fig.add_subplot(131)\n",
    "ax.set_title(\"Test Data - racePctWhite vs racePctBlack\")\n",
    "ax.set_autoscaley_on(False)\n",
    "ax.set_ylim([0, 1])\n",
    "ax.set_autoscalex_on(False)\n",
    "ax.set_xlim([0, 1])\n",
    "\n",
    "ax.set_xlabel(\"racepctblack\")\n",
    "ax.set_ylabel(\"racePctWhite\")\n",
    "\n",
    "plt.scatter(test_data['racepctblack'],test_data['racePctWhite'], cmap='coolwarm', c=test_data['ViolentCrimesPerPop'])\n",
    "\n",
    "ax = plt.subplot(1, 3, 2)\n",
    "ax.set_title(\"Test Data - racePctWhite vs racePctAsian\")\n",
    "ax.set_autoscaley_on(False)\n",
    "ax.set_ylim([0, 1])\n",
    "ax.set_autoscalex_on(False)\n",
    "ax.set_xlim([0, 1])\n",
    "\n",
    "ax.set_xlabel(\"racepctAsian\")\n",
    "ax.set_ylabel(\"racePctWhite\")\n",
    "\n",
    "plt.scatter(test_data['racePctAsian'], test_data['racePctWhite'], cmap='coolwarm', c=test_data['ViolentCrimesPerPop'])\n",
    "\n",
    "ax = plt.subplot(1, 3, 3)\n",
    "ax.set_title(\"Test Data - racePctWhite vs racePctHisp\")\n",
    "ax.set_autoscaley_on(False)\n",
    "ax.set_ylim([0, 1])\n",
    "ax.set_autoscalex_on(False)\n",
    "ax.set_xlim([0, 1])\n",
    "\n",
    "plt.scatter(test_data['racePctHisp'], test_data['racePctWhite'], cmap='coolwarm', c=test_data['ViolentCrimesPerPop'])\n",
    "ax.set_xlabel(\"racepctHisp\")\n",
    "ax.set_ylabel(\"racePctWhite\")"
   ]
  },
  {
   "cell_type": "markdown",
   "metadata": {},
   "source": [
    "### Train model on the data"
   ]
  },
  {
   "cell_type": "code",
   "execution_count": null,
   "metadata": {},
   "outputs": [],
   "source": []
  },
  {
   "cell_type": "code",
   "execution_count": null,
   "metadata": {},
   "outputs": [],
   "source": [
    "VIOLENT_CRIMES_PER_POP = \"ViolentCrimesPerPop\"\n",
    "FOLD = \"fold\"\n",
    "test_targets =pd.DataFrame()\n",
    "training_input, training_targets = training_data.drop([FOLD, VIOLENT_CRIMES_PER_POP], axis=1), training_data[VIOLENT_CRIMES_PER_POP]\n",
    "test_input, test_targets[VIOLENT_CRIMES_PER_POP] = test_data.drop([FOLD, VIOLENT_CRIMES_PER_POP], axis=1), test_data[VIOLENT_CRIMES_PER_POP]"
   ]
  },
  {
   "cell_type": "code",
   "execution_count": null,
   "metadata": {},
   "outputs": [],
   "source": [
    "training_input.keys()"
   ]
  },
  {
   "cell_type": "code",
   "execution_count": null,
   "metadata": {},
   "outputs": [],
   "source": [
    "test_input.shape, test_targets.shape"
   ]
  },
  {
   "cell_type": "markdown",
   "metadata": {},
   "source": [
    "### Attempt 1: Keras model"
   ]
  },
  {
   "cell_type": "code",
   "execution_count": null,
   "metadata": {},
   "outputs": [],
   "source": [
    "INPUT_SIZE = len(training_input.keys())"
   ]
  },
  {
   "cell_type": "code",
   "execution_count": null,
   "metadata": {},
   "outputs": [],
   "source": [
    "\n",
    "def build_model():\n",
    "    model = keras.Sequential([\n",
    "        Dense(64, activation='relu', input_shape=[INPUT_SIZE]),\n",
    "        Dense(32, activation='relu'),\n",
    "        Dense(1)\n",
    "    ])\n",
    "    \n",
    "    rmsprop = keras.optimizers.RMSprop(0.001)\n",
    "    sgd = optimizers.SGD(lr=0.01, decay=1e-6, momentum=0.9, nesterov=True)\n",
    "    model.compile(loss='mse', optimizer = sgd,  metrics=['mae', 'mse'])\n",
    "    return model\n",
    "    \n",
    "model = build_model()\n",
    "model.summary()\n",
    "    "
   ]
  },
  {
   "cell_type": "code",
   "execution_count": null,
   "metadata": {},
   "outputs": [],
   "source": [
    "example_batch = training_input[:10]\n",
    "example_output = model.predict(example_batch)"
   ]
  },
  {
   "cell_type": "code",
   "execution_count": null,
   "metadata": {},
   "outputs": [],
   "source": [
    "fig = plt.figure(figsize=(20, 8))\n",
    "ax = fig.add_subplot(131)\n",
    "ax.set_title(\"True value vs untrained output\")\n",
    "plt.scatter(training_targets[:10], example_output[:10])\n",
    "plt.xlabel(\"True Value\")\n",
    "plt.ylabel(\"Untrained output\")"
   ]
  },
  {
   "cell_type": "code",
   "execution_count": null,
   "metadata": {},
   "outputs": [],
   "source": [
    "class PrintProgress(keras.callbacks.Callback):\n",
    "    def on_epoch_end(self, epoch, logs):\n",
    "        if epoch % 100 == 0: \n",
    "            print('')\n",
    "        print('.', end='')\n",
    "            \n",
    "EPOCHS = 100\n",
    "\n",
    "# The patience parameter is the amount of epochs to check for improvement\n",
    "early_stop = keras.callbacks.EarlyStopping(monitor='val_loss', patience=10)\n",
    "\n",
    "history = model.fit(\n",
    "    training_input, training_targets, epochs=EPOCHS, validation_split = 0.2, verbose=0, callbacks=[early_stop, PrintProgress()])"
   ]
  },
  {
   "cell_type": "code",
   "execution_count": null,
   "metadata": {},
   "outputs": [],
   "source": [
    "hist = pd.DataFrame(history.history)\n",
    "hist['epoch'] = history.epoch\n",
    "hist.tail()"
   ]
  },
  {
   "cell_type": "code",
   "execution_count": null,
   "metadata": {},
   "outputs": [],
   "source": [
    "example_batch = training_input[:100]\n",
    "example_output = model.predict(example_batch)\n",
    "example_true_output = training_targets[:10]\n",
    "\n",
    "fig = plt.figure(figsize=(20, 8))\n",
    "ax = fig.add_subplot(131)\n",
    "ax.set_title(\"True value vs Trained output\")\n",
    "plt.ylim([0, 1])\n",
    "plt.xlim([0, 1])\n",
    "plt.scatter(training_targets[:100], example_output[:100])\n",
    "plt.xlabel(\"True Value\")\n",
    "plt.ylabel(\"Prediction\")"
   ]
  },
  {
   "cell_type": "code",
   "execution_count": null,
   "metadata": {},
   "outputs": [],
   "source": [
    "def plot_history(history):\n",
    "    MAE = 'mean_absolute_error'\n",
    "    VAL_MAE='val_mean_absolute_error'\n",
    "    MSE=\"mean_squared_error\"\n",
    "    VAL_MSE = \"val_mean_squared_error\"\n",
    "    \n",
    "    hist = pd.DataFrame(history.history)\n",
    "    hist['epoch'] = history.epoch\n",
    "    \n",
    "    plt.figure()\n",
    "    plt.xlabel('Epoch')\n",
    "    plt.ylabel('Mean Abs Error [MPG]')\n",
    "    plt.plot(hist['epoch'], hist[MAE],\n",
    "             label='Train Error')\n",
    "    plt.plot(hist['epoch'], hist[VAL_MAE],\n",
    "           label = 'Val Error')\n",
    "    \n",
    "    plt.ylim([0,0.3])\n",
    "    plt.legend()\n",
    "    plt.figure()\n",
    "    plt.xlabel('Epoch')\n",
    "    plt.ylabel('Mean Square Error [$MPG^2$]')\n",
    "    plt.plot(hist['epoch'], hist[MSE],\n",
    "           label='Train Error')\n",
    "    plt.plot(hist['epoch'], hist[VAL_MSE],\n",
    "           label = 'Val Error')\n",
    "    plt.ylim([0,0.3])\n",
    "    plt.legend()\n",
    "    plt.show()\n",
    "\n",
    "plot_history(history)"
   ]
  },
  {
   "cell_type": "code",
   "execution_count": null,
   "metadata": {},
   "outputs": [],
   "source": [
    "loss, mae, mse = model.evaluate(test_input, test_targets, verbose=2)"
   ]
  },
  {
   "cell_type": "code",
   "execution_count": null,
   "metadata": {},
   "outputs": [],
   "source": [
    "print(\"Testing set Mean Abs Error: {:5.2f} \".format(mae))"
   ]
  },
  {
   "cell_type": "code",
   "execution_count": null,
   "metadata": {},
   "outputs": [],
   "source": [
    "test_predictions = model.predict(test_input)\n",
    "plt.scatter(test_targets, test_predictions)\n",
    "plt.xlabel('True Values')\n",
    "plt.ylabel('Predictions')\n",
    "plt.xlim([0,plt.xlim()[1]])\n",
    "plt.ylim([0,plt.ylim()[1]])\n",
    "_ = plt.plot([-2, 2], [-2, 2])"
   ]
  },
  {
   "cell_type": "code",
   "execution_count": null,
   "metadata": {},
   "outputs": [],
   "source": [
    "error = test_predictions.reshape(199) - test_targets\n",
    "plt.hist(error, bins = 25)\n",
    "plt.xlabel(\"Prediction Error ( ViolentCrimes Per Pop)\")\n",
    "_ = plt.ylabel(\"Count\")\n",
    "plt.show()"
   ]
  },
  {
   "cell_type": "markdown",
   "metadata": {},
   "source": [
    "##### Error follows gaussian distribution"
   ]
  },
  {
   "cell_type": "code",
   "execution_count": null,
   "metadata": {},
   "outputs": [],
   "source": [
    "### Bias analysis on test data\n"
   ]
  },
  {
   "cell_type": "code",
   "execution_count": null,
   "metadata": {},
   "outputs": [],
   "source": [
    "test_input.describe()"
   ]
  },
  {
   "cell_type": "code",
   "execution_count": null,
   "metadata": {},
   "outputs": [],
   "source": [
    "error.describe()"
   ]
  },
  {
   "cell_type": "code",
   "execution_count": null,
   "metadata": {},
   "outputs": [],
   "source": [
    "test_targets.shape"
   ]
  },
  {
   "cell_type": "code",
   "execution_count": null,
   "metadata": {},
   "outputs": [],
   "source": []
  },
  {
   "cell_type": "markdown",
   "metadata": {},
   "source": [
    "# Evaluate Estimation Error coefficient ( Group Fairness) "
   ]
  },
  {
   "cell_type": "code",
   "execution_count": null,
   "metadata": {},
   "outputs": [],
   "source": [
    "ERROR_LABEL = 'Error [Crime Rate Per Population]'\n",
    "\n",
    "fig = plt.figure(figsize=(20, 8))\n",
    "ax = fig.add_subplot(141)\n",
    "ax.set_title(\"Test Data - Error racePctWhite\")\n",
    "\n",
    "ax.set_xlabel(\"racePctWhite\")\n",
    "ax.set_ylabel(ERROR_LABEL)\n",
    "plt.scatter(test_data.racePctWhite,error)\n",
    "b, m = polyfit(test_data.racePctWhite, error, 1)\n",
    "plt.plot(test_data.racePctWhite,  b + m *test_data.racePctWhite, '-')\n",
    "\n",
    "ax = plt.subplot(142)\n",
    "ax.set_title(\"Test Data - Error vs racePctBlack\")\n",
    "\n",
    "ax.set_xlabel(\"racePctBlack\")\n",
    "ax.set_ylabel(ERROR_LABEL)\n",
    "plt.scatter(test_data.racepctblack, error)\n",
    "b, m = polyfit(test_data.racepctblack, error, 1)\n",
    "plt.plot(test_data.racepctblack,  b + m *test_data.racepctblack, '-')\n",
    "\n",
    "ax = plt.subplot(143)\n",
    "ax.set_title(\"Test Data - Error vs racePctAsian\")\n",
    "plt.scatter(test_data.racePctAsian, error)\n",
    "ax.set_xlabel(\"racepctAsian\")\n",
    "ax.set_ylabel(ERROR_LABEL)\n",
    "b, m = polyfit(test_data.racePctAsian, error, 1)\n",
    "plt.plot(test_data.racePctAsian,  b + m *test_data.racePctAsian, '-')\n",
    "              \n",
    "ax = plt.subplot(144)\n",
    "ax.set_title(\"Test Data - Error vs racepctHisp\")\n",
    "plt.scatter(test_data.racePctHisp, error)\n",
    "ax.set_xlabel(\"racepctHisp\")\n",
    "ax.set_ylabel(ERROR_LABEL)\n",
    "b, m = polyfit(test_data.racePctHisp, error, 1)\n",
    "plt.plot(test_data.racePctHisp,  b + m *test_data.racePctHisp, '-')"
   ]
  },
  {
   "cell_type": "markdown",
   "metadata": {},
   "source": [
    "##### Results: We see negative coefficients for racePctWhite, racePctAsian and racePctHispanic, while we see positive coefficient for racePctBlack."
   ]
  },
  {
   "cell_type": "code",
   "execution_count": null,
   "metadata": {},
   "outputs": [],
   "source": [
    "ERROR_LABEL = 'Abs(Error) [Crime Rate Per Population]'\n",
    "abs_error = np.abs(error)\n",
    "\n",
    "fig = plt.figure(figsize=(20, 8))\n",
    "ax = fig.add_subplot(141)\n",
    "ax.set_title(\"Test Data - abs(Error) vs racePctWhite\")\n",
    "\n",
    "ax.set_xlabel(\"racePctWhite\")\n",
    "ax.set_ylabel(ERROR_LABEL)\n",
    "plt.scatter(test_data.racePctWhite,abs_error)\n",
    "b, m = polyfit(test_data.racePctWhite, abs_error, 1)\n",
    "plt.plot(test_data.racePctWhite,  b + m *test_data.racePctWhite, '-')\n",
    "\n",
    "ax = plt.subplot(142)\n",
    "ax.set_title(\"Test Data - abs(Error) vs racePctBlack\")\n",
    "\n",
    "ax.set_xlabel(\"racePctBlack\")\n",
    "ax.set_ylabel(ERROR_LABEL)\n",
    "plt.scatter(test_data.racepctblack, abs_error)\n",
    "b, m = polyfit(test_data.racepctblack, abs_error, 1)\n",
    "plt.plot(test_data.racepctblack,  b + m *test_data.racepctblack, '-')\n",
    "\n",
    "ax = plt.subplot(143)\n",
    "ax.set_title(\"Test Data - abs(Error) vs racePctAsian\")\n",
    "plt.scatter(test_data.racePctAsian, abs_error)\n",
    "ax.set_xlabel(\"racepctAsian\")\n",
    "ax.set_ylabel(ERROR_LABEL)\n",
    "b, m = polyfit(test_data.racePctAsian, abs_error, 1)\n",
    "plt.plot(test_data.racePctAsian,  b + m *test_data.racePctAsian, '-')\n",
    "              \n",
    "ax = plt.subplot(144)\n",
    "ax.set_title(\"Test Data - abs(Error) vs racePctHispanic\")\n",
    "plt.scatter(test_data.racePctHisp, abs_error)\n",
    "ax.set_xlabel(\"racepctHisp\")\n",
    "ax.set_ylabel(ERROR_LABEL)\n",
    "b, m = polyfit(test_data.racePctHisp, abs_error, 1)\n",
    "plt.plot(test_data.racePctHisp,  b + m *test_data.racePctHisp, '-')"
   ]
  },
  {
   "cell_type": "markdown",
   "metadata": {},
   "source": [
    "## Evaluate consistency ( Individual Fairness)"
   ]
  },
  {
   "cell_type": "code",
   "execution_count": null,
   "metadata": {},
   "outputs": [],
   "source": [
    "def euclidean_distance(vec1, vec2):\n",
    "    diff = vec1 - vec2\n",
    "    out = np.sqrt(np.dot(diff, diff.T))\n",
    "    return out\n",
    "\n",
    "def get_prediction_difference(input_dataset):\n",
    "    predictions = model.predict(input_dataset)\n",
    "    difference_matrix = None\n",
    "\n",
    "def cosine_distance(vec1, vec2):\n",
    "    # TODO(audace) Implement cosine distance\n",
    "    pass"
   ]
  },
  {
   "cell_type": "code",
   "execution_count": null,
   "metadata": {},
   "outputs": [],
   "source": [
    "# TODO(audace): Vectorize\n",
    "test_input_np = np.array(test_input)\n",
    "test_input_np.shape\n",
    "n_rows = test_input.shape[0]\n",
    "results_list = [[], []]\n",
    "for index_1 in range(n_rows):\n",
    "    for index_2 in range(n_rows):\n",
    "        vec1 = test_input_np[index_1,:].reshape((1, 99))\n",
    "        vec2 = test_input_np[index_2, :].reshape((1, 99))\n",
    "        distance = euclidean_distance(vec1, vec2)\n",
    "        prediction_difference = np.abs(model.predict(vec1) - model.predict(vec2)).reshape((1,))\n",
    "        results_list[0].append(distance.flatten()[0])\n",
    "        results_list[1].append(prediction_difference.flatten()[0])"
   ]
  },
  {
   "cell_type": "markdown",
   "metadata": {},
   "source": [
    "# Consistency of prediction"
   ]
  },
  {
   "cell_type": "code",
   "execution_count": null,
   "metadata": {},
   "outputs": [],
   "source": [
    "plt.figure()\n",
    "plt.scatter(results_list[0], results_list[1])\n",
    "plt.xlabel(\"Euclidean distance\")\n",
    "plt.ylabel(\"Prediction Difference\")"
   ]
  },
  {
   "cell_type": "code",
   "execution_count": null,
   "metadata": {},
   "outputs": [],
   "source": [
    "# Consistency of error"
   ]
  },
  {
   "cell_type": "code",
   "execution_count": null,
   "metadata": {},
   "outputs": [],
   "source": [
    "error_as_list = list(error)"
   ]
  },
  {
   "cell_type": "code",
   "execution_count": null,
   "metadata": {},
   "outputs": [],
   "source": [
    "# TODO(audace): Vectorize\n",
    "test_input_np = np.array(test_input)\n",
    "test_input_np.shape\n",
    "n_rows = test_input.shape[0]\n",
    "results_list = [[], []]\n",
    "for index_1 in range(n_rows):\n",
    "    for index_2 in range(n_rows):\n",
    "        vec1 = test_input_np[index_1,:].reshape((1, 99))\n",
    "        vec2 = test_input_np[index_2, :].reshape((1, 99))\n",
    "        distance = euclidean_distance(vec1, vec2)\n",
    "        error_difference = np.abs(error_as_list[index_1] - error_as_list[index_2])\n",
    "        results_list[0].append(distance.flatten()[0])\n",
    "        results_list[1].append(error_difference.flatten()[0])"
   ]
  },
  {
   "cell_type": "code",
   "execution_count": null,
   "metadata": {},
   "outputs": [],
   "source": [
    "plt.figure()\n",
    "plt.scatter(results_list[0], results_list[1])\n",
    "plt.xlabel(\"Euclidean distance\")\n",
    "plt.ylabel(\"Error Difference\")"
   ]
  },
  {
   "cell_type": "markdown",
   "metadata": {},
   "source": [
    "### Architecture 2: Linear regressor with tensorflow.estimator.LinearRegressor"
   ]
  },
  {
   "cell_type": "code",
   "execution_count": null,
   "metadata": {},
   "outputs": [],
   "source": []
  },
  {
   "cell_type": "code",
   "execution_count": null,
   "metadata": {},
   "outputs": [],
   "source": [
    "def my_input_fn(features, targets, batch_size=1, shuffle=True, num_epochs=None):\n",
    "    ## Convert data into a dict of np array\n",
    "    features = {key: np.array(value) for key, value in dict(features).items()}\n",
    "    \n",
    "    ## Construct dataset, and consider batching and repeating\n",
    "    ds = Dataset.from_tensor_slices((features, targets)) # 2GB limit\n",
    "    ds = ds.batch(batch_size).repeat(num_epochs)\n",
    "    \n",
    "    if shuffle:\n",
    "        ds = ds.shuffle(100)\n",
    "        \n",
    "    # Return the next batch of data\n",
    "    features, labels = ds.make_one_shot_iterator().get_next()\n",
    "    return features, labels\n",
    "\n",
    "def construct_feature_columns(input_features):\n",
    "    \"\"\"\n",
    "    features: the names of numerical features to use\n",
    "    Returns a set of feature column\n",
    "    \"\"\"\n",
    "    return set([tf.feature_column.numeric_column(my_feature) for my_feature in input_features])\n",
    "\n",
    "def train_model(learning_rate, steps, batch_size, training_examples, training_targets, validation_examples, validation_targets):\n",
    "    \n",
    "    \"\"\"Trains a linear regression model of multiple features.\n",
    "    \n",
    "    In addition to training, this function also prints training progress information, as well as a plot of the training and validation loss over time.\n",
    "    \n",
    "    Args:\n",
    "    learning_rate: A `float`, the learning rate.\n",
    "    steps: A non-zero `int`, the total number of training steps. A training step\n",
    "      consists of a forward and backward pass using a single batch.\n",
    "    batch_size: A non-zero `int`, the batch size.\n",
    "    training_examples: A `DataFrame` containing one or more columns from\n",
    "      `california_housing_dataframe` to use as input features for training.\n",
    "    training_targets: A `DataFrame` containing exactly one column from\n",
    "      `california_housing_dataframe` to use as target for training.\n",
    "    validation_examples: A `DataFrame` containing one or more columns from\n",
    "      `california_housing_dataframe` to use as input features for validation.\n",
    "    validation_targets: A `DataFrame` containing exactly one column from\n",
    "      `california_housing_dataframe` to use as target for validation.\n",
    "      \n",
    "    Returns:\n",
    "    A `LinearRegressor` object trained on the training data.\n",
    "    \"\"\"\n",
    "    periods = 15\n",
    "    print(\"Periods: \", periods)\n",
    "    steps_per_period = steps/periods\n",
    "    \n",
    "    \n",
    "    # Create a linear regression object\n",
    "    my_optimizer = tf.train.GradientDescentOptimizer(learning_rate=learning_rate)\n",
    "    my_optimizer = tf.contrib.estimator.clip_gradients_by_norm(my_optimizer, 5.0)\n",
    "    linear_regressor = tf.estimator.LinearRegressor(feature_columns=construct_feature_columns(training_examples), optimizer=my_optimizer)\n",
    "    \n",
    "    \n",
    "    \n",
    "    training_input_fn = lambda: my_input_fn(training_examples, training_targets[VIOLENT_CRIMES_PER_POP], batch_size=batch_size)\n",
    "    predict_training_input_fn = lambda: my_input_fn(training_examples, training_targets[VIOLENT_CRIMES_PER_POP], num_epochs=1, shuffle=False)\n",
    "    predict_validation_input_fn = lambda : my_input_fn(validation_examples, validation_targets[VIOLENT_CRIMES_PER_POP], num_epochs=1, shuffle=False)\n",
    "    \n",
    "    print(\"Training model ..... \")\n",
    "    print(\"RMSE on the data .... \")\n",
    "    training_rmse = []\n",
    "    validation_rmse = []\n",
    "    \n",
    "    for period in range(0, periods):\n",
    "        # train the model, starting from the prior state\n",
    "        linear_regressor.train(input_fn = training_input_fn, steps=steps_per_period)\n",
    "        \n",
    "        # Take a break and compute predictions\n",
    "        training_predictions = linear_regressor.predict(input_fn=predict_training_input_fn)\n",
    "        training_predictions = np.array([item['predictions'][0] for item in training_predictions])\n",
    "        \n",
    "        validation_predictions = linear_regressor.predict(input_fn=predict_validation_input_fn)\n",
    "        validation_predictions = np.array([item['predictions'][0] for item in validation_predictions])\n",
    "        \n",
    "        \n",
    "        \n",
    "        ## Compute training and validation loss\n",
    "        training_root_mean_squared_error = math.sqrt(metrics.mean_squared_error(training_predictions, training_targets))\n",
    "        validation_root_mean_squared_error = math.sqrt(metrics.mean_squared_error(validation_predictions, validation_targets))\n",
    "        \n",
    "        ## Occasionally print the current loss\n",
    "        # Occasionally print the current loss.\n",
    "        print(\"  period %02d : %0.2f\" % (period, training_root_mean_squared_error))\n",
    "        \n",
    "        training_rmse.append(training_root_mean_squared_error)\n",
    "        validation_rmse.append(validation_root_mean_squared_error)\n",
    "        \n",
    "    print(\"Model training finished.\")\n",
    "    \n",
    "     # Output a graph of loss metrics over periods.\n",
    "    plt.ylabel(\"RMSE\")\n",
    "    plt.xlabel(\"Periods\")\n",
    "    plt.title(\"Root Mean Squared Error vs. Periods\")\n",
    "    plt.tight_layout()\n",
    "    plt.plot(training_rmse, label=\"training\")\n",
    "    plt.plot(validation_rmse, label=\"validation\")\n",
    "    plt.legend()\n",
    "    \n",
    "    return linear_regressor\n",
    "    "
   ]
  },
  {
   "cell_type": "code",
   "execution_count": null,
   "metadata": {},
   "outputs": [],
   "source": [
    "new_training_data, new_validation_data = train_test_split(training_data, folds =[5])\n",
    "assert new_training_data.shape[0] > 0 and new_validation_data.shape[0]  > 0\n",
    "\n",
    "new_training_targets, new_validation_targets = pd.DataFrame(), pd.DataFrame()\n",
    "new_training_examples, new_training_targets[VIOLENT_CRIMES_PER_POP] = new_training_data.drop([FOLD, VIOLENT_CRIMES_PER_POP], axis=1), new_training_data[VIOLENT_CRIMES_PER_POP]\n",
    "new_validation_examples, new_validation_targets[VIOLENT_CRIMES_PER_POP] = new_validation_data.drop([FOLD, VIOLENT_CRIMES_PER_POP], axis=1), new_validation_data[VIOLENT_CRIMES_PER_POP]\n",
    "\n"
   ]
  },
  {
   "cell_type": "code",
   "execution_count": null,
   "metadata": {},
   "outputs": [],
   "source": [
    "linear_regressor = train_model(learning_rate =0.001, steps=100, batch_size=8, training_examples=new_training_examples, training_targets=new_training_targets, validation_examples=new_validation_examples, validation_targets=new_validation_targets)"
   ]
  },
  {
   "cell_type": "markdown",
   "metadata": {},
   "source": [
    "### Some results summary:\n",
    "\n",
    "- lr = 0.001, batch_size = 8, periods = 10 : rmse = 0.19 or 0.18\n",
    "- lr = 0.001, batch_size = 8, periods = 30: rmse = 0.17\n",
    "- lr = 0.001, batch_size = 8, periods = 50: rmse = 0.21\n",
    "\n"
   ]
  },
  {
   "cell_type": "code",
   "execution_count": null,
   "metadata": {},
   "outputs": [],
   "source": [
    "# Run on test data\n",
    "test_input_fn = lambda: my_input_fn(test_input, test_targets, batch_size=1, shuffle=False)\n",
    "test_predictions = linear_regressor.predict(input_fn = test_input_fn)\n",
    "\n",
    "predict_test_input_fn = lambda: my_input_fn(test_input, test_targets, num_epochs=1, shuffle=False)\n",
    "\n",
    "test_predictions = linear_regressor.predict(input_fn=predict_test_input_fn)\n",
    "test_predictions = np.array([item['predictions'][0] for item in test_predictions])\n",
    "\n",
    "root_mean_squared_error = math.sqrt(metrics.mean_squared_error(test_predictions, test_targets))\n",
    "print(\"Final RMSE (on test data): %0.2f\" % root_mean_squared_error)\n"
   ]
  },
  {
   "cell_type": "code",
   "execution_count": null,
   "metadata": {},
   "outputs": [],
   "source": [
    "new_error = test_predictions - test_targets\n",
    "\n",
    "ERROR_LABEL = 'Error [Crime Rate Per Population]'\n",
    "\n",
    "fig = plt.figure(figsize=(20, 8))\n",
    "ax = fig.add_subplot(141)\n",
    "ax.set_title(\"Test Data - Error racePctWhite\")\n",
    "\n",
    "ax.set_xlabel(\"racePctWhite\")\n",
    "ax.set_ylabel(ERROR_LABEL)\n",
    "plt.scatter(test_input.racePctWhite,new_error)\n",
    "b, m = polyfit(test_input.racePctWhite, new_error, 1)\n",
    "plt.plot(test_input.racePctWhite,  b + m *test_input.racePctWhite, '-')\n",
    "\n",
    "ax = plt.subplot(142)\n",
    "ax.set_title(\"Test Data - Error vs racePctBlack\")\n",
    "\n",
    "ax.set_xlabel(\"racePctBlack\")\n",
    "ax.set_ylabel(ERROR_LABEL)\n",
    "plt.scatter(test_input.racepctblack, new_error)\n",
    "b, m = polyfit(test_input.racepctblack, new_error, 1)\n",
    "plt.plot(test_input.racepctblack,  b + m *test_input.racepctblack, '-')\n",
    "\n",
    "ax = plt.subplot(143)\n",
    "ax.set_title(\"Test Data - Error vs racePctAsian\")\n",
    "plt.scatter(test_input.racePctAsian, new_error)\n",
    "ax.set_xlabel(\"racepctAsian\")\n",
    "ax.set_ylabel(ERROR_LABEL)\n",
    "b, m = polyfit(test_input.racePctAsian, new_error, 1)\n",
    "plt.plot(test_input.racePctAsian,  b + m *test_input.racePctAsian, '-')\n",
    "              \n",
    "ax = plt.subplot(144)\n",
    "ax.set_title(\"Test Data - Error vs racepctHisp\")\n",
    "plt.scatter(test_input.racePctHisp, new_error)\n",
    "ax.set_xlabel(\"racepctHisp\")\n",
    "ax.set_ylabel(ERROR_LABEL)\n",
    "b, m = polyfit(test_input.racePctHisp, new_error, 1)\n",
    "plt.plot(test_input.racePctHisp,  b + m *test_input.racePctHisp, '-')"
   ]
  },
  {
   "cell_type": "code",
   "execution_count": null,
   "metadata": {},
   "outputs": [],
   "source": [
    "\n",
    "\n",
    "fig = plt.figure(figsize=(20, 8))\n",
    "ax = fig.add_subplot(131)\n",
    "ax.set_title(\"Predicted output vs True value\")\n",
    "plt.ylim([0, 1])\n",
    "plt.xlim([0, 1])\n",
    "plt.scatter(test_targets, test_predictions)\n",
    "plt.xlabel(\"True value\")\n",
    "plt.ylabel(\"Predictions\")"
   ]
  },
  {
   "cell_type": "markdown",
   "metadata": {},
   "source": [
    "### Appendix:  Related works\n",
    "- [Fairness-Aware learning for continuous attributes and treatment](http://proceedings.mlr.press/v97/mary19a/mary19a-supp.pdf)\n",
    "\n",
    "- [A convex framework for fair regression](https://arxiv.org/abs/1706.02409)"
   ]
  },
  {
   "cell_type": "markdown",
   "metadata": {},
   "source": [
    "#### Checkpoint data so far"
   ]
  },
  {
   "cell_type": "code",
   "execution_count": null,
   "metadata": {},
   "outputs": [],
   "source": [
    "new_validation_examples.head()"
   ]
  },
  {
   "cell_type": "code",
   "execution_count": null,
   "metadata": {},
   "outputs": [],
   "source": [
    "test_targets.shape"
   ]
  },
  {
   "cell_type": "code",
   "execution_count": null,
   "metadata": {},
   "outputs": [],
   "source": [
    "new_validation_examples.to_csv('ml_curated_data/validation_examples.csv', index=False)\n",
    "new_validation_targets.to_csv('ml_curated_data/validation_targets.csv', index=False)\n",
    "test_input.to_csv('ml_curated_data/test_examples.csv', index=False)\n",
    "test_targets.to_csv('ml_curated_data/test_targets.csv', index=False)\n",
    "new_training_examples.to_csv(\"ml_curated_data/training_examples.csv\", index=False)\n",
    "new_training_targets.to_csv(\"ml_curated_data/training_targets.csv\", index=False)\n"
   ]
  },
  {
   "cell_type": "code",
   "execution_count": null,
   "metadata": {},
   "outputs": [],
   "source": [
    "test_input.shape, test_targets.shape"
   ]
  },
  {
   "cell_type": "markdown",
   "metadata": {},
   "source": [
    "# Implement residual model with debiasing"
   ]
  },
  {
   "cell_type": "code",
   "execution_count": 2,
   "metadata": {},
   "outputs": [],
   "source": [
    "training_examples_3 = pd.read_csv('ml_curated_data/training_examples.csv')\n",
    "training_targets_3 = pd.read_csv('ml_curated_data/training_targets.csv')\n",
    "validation_examples_3 = pd.read_csv('ml_curated_data/validation_examples.csv')\n",
    "validation_targets_3 = pd.read_csv('ml_curated_data/validation_targets.csv')\n",
    "test_examples_3 = pd.read_csv('ml_curated_data/test_examples.csv')\n",
    "test_targets_3 = pd.read_csv('ml_curated_data/test_targets.csv')"
   ]
  },
  {
   "cell_type": "code",
   "execution_count": 3,
   "metadata": {},
   "outputs": [
    {
     "data": {
      "text/plain": [
       "(199, 1)"
      ]
     },
     "execution_count": 3,
     "metadata": {},
     "output_type": "execute_result"
    }
   ],
   "source": [
    "test_targets_3.shape"
   ]
  },
  {
   "cell_type": "code",
   "execution_count": 4,
   "metadata": {},
   "outputs": [
    {
     "data": {
      "text/plain": [
       "((199, 99), (199, 1))"
      ]
     },
     "execution_count": 4,
     "metadata": {},
     "output_type": "execute_result"
    }
   ],
   "source": [
    "test_examples_3.shape, test_targets_3.shape"
   ]
  },
  {
   "cell_type": "code",
   "execution_count": 13,
   "metadata": {},
   "outputs": [],
   "source": [
    "def CC(y_true, y_pred):\n",
    "    \"\"\"\n",
    "    Return differentible correlation coefficient\n",
    "    \"\"\"\n",
    "    #normalise\n",
    "    n_y_true = (y_true - K.mean(y_true[:])) / K.std(y_true[:])\n",
    "    n_y_pred = (y_pred - K.mean(y_pred[:])) / K.std(y_pred[:])  \n",
    "\n",
    "    top=K.sum((n_y_true[:]-K.mean(n_y_true[:]))*(n_y_pred[:]-K.mean(n_y_pred[:])),axis=[-1,-2])\n",
    "    bottom=K.sqrt(K.sum(K.pow((n_y_true[:]-K.mean(n_y_true[:])),2),axis=[-1,-2])*K.sum(K.pow(n_y_pred[:]-K.mean(n_y_pred[:]),2),axis=[-1,-2]))\n",
    "\n",
    "    result=top/bottom\n",
    "\n",
    "\n",
    "    return K.mean(result)"
   ]
  },
  {
   "cell_type": "code",
   "execution_count": 6,
   "metadata": {},
   "outputs": [],
   "source": [
    "\n",
    "\n",
    "def build_residual_model(input_shape, if_loss=True, gf_loss=True):\n",
    "    \n",
    "    ## Pre-repr layers\n",
    "    input_layer = Input(shape=input_shape)\n",
    "    pre_dense_1 = Dense(128, activation='relu')(input_layer)\n",
    "    pre_dense_2 = Dense(64, activation='relu')(pre_dense_1)\n",
    "    \n",
    "    repr_layer = Dense(32, activation='relu')(pre_dense_2)\n",
    "    \n",
    "    # Post-repr layers\n",
    "    post_dense_1 = Dense(128, activation='relu')(repr_layer)\n",
    "    post_dense_2 = Dense(64, activation='relu')(post_dense_1)\n",
    "    post_dense_3 = Dense(32, activation='relu')(post_dense_2)\n",
    "    output = Dense(1, activation='relu')(post_dense_3)\n",
    "    \n",
    "    def fairness_loss_function(_input_layer, _repr_layer):\n",
    "        \"\"\"\n",
    "        ypred and y_true are mini-batches of [m x 1]\n",
    "        \"\"\"\n",
    "        def fairness_loss_function(ytrue, ypred):\n",
    "            accuracy_loss = keras.losses.mse(ytrue, ypred)\n",
    "            \n",
    "            # TODO(audace): Complete implementation of pearson coefficient loss for group fairness\n",
    "            pearson_coefficient_loss = 0\n",
    "            \n",
    "            # Compute pairwise euclidean distnces, Source: (https://stackoverflow.com/questions/37009647/compute-pairwise-distance-in-a-batch-without-replicating-tensor-in-tensorflow)\n",
    "            # Compute euclidean distance\n",
    "            A = repr_layer\n",
    "            r = K.mean(A, 1)\n",
    "            r = K.reshape(r, [-1, 1])\n",
    "            D = r - 2*K.dot(A, K.transpose(A)) + K.transpose(r)\n",
    "            \n",
    "            error = ypred - ytrue\n",
    "            # similarity error correlation            \n",
    "            similarity_metric_loss = 0.2 * K.abs(CC(error, D))\n",
    "            return accuracy_loss + pearson_coefficient_loss + similarity_metric_loss\n",
    "        return fairness_loss_function\n",
    "    model = Model(input_layer, output)\n",
    "    rmsprop_optimizer = keras.optimizers.RMSprop(0.001)\n",
    "    model.compile(optimizer=rmsprop_optimizer, loss=fairness_loss_function(input_layer, repr_layer))\n",
    "    return model"
   ]
  },
  {
   "cell_type": "code",
   "execution_count": 7,
   "metadata": {},
   "outputs": [
    {
     "name": "stdout",
     "output_type": "stream",
     "text": [
      "_________________________________________________________________\n",
      "Layer (type)                 Output Shape              Param #   \n",
      "=================================================================\n",
      "input_1 (InputLayer)         (None, 99)                0         \n",
      "_________________________________________________________________\n",
      "dense_1 (Dense)              (None, 128)               12800     \n",
      "_________________________________________________________________\n",
      "dense_2 (Dense)              (None, 64)                8256      \n",
      "_________________________________________________________________\n",
      "dense_3 (Dense)              (None, 32)                2080      \n",
      "_________________________________________________________________\n",
      "dense_4 (Dense)              (None, 128)               4224      \n",
      "_________________________________________________________________\n",
      "dense_5 (Dense)              (None, 64)                8256      \n",
      "_________________________________________________________________\n",
      "dense_6 (Dense)              (None, 32)                2080      \n",
      "_________________________________________________________________\n",
      "dense_7 (Dense)              (None, 1)                 33        \n",
      "=================================================================\n",
      "Total params: 37,729\n",
      "Trainable params: 37,729\n",
      "Non-trainable params: 0\n",
      "_________________________________________________________________\n"
     ]
    }
   ],
   "source": [
    "model = build_residual_model([validation_examples_3.shape[1]])\n",
    "model.summary()"
   ]
  },
  {
   "cell_type": "markdown",
   "metadata": {},
   "source": [
    "### Run on untrained predictions"
   ]
  },
  {
   "cell_type": "code",
   "execution_count": 8,
   "metadata": {},
   "outputs": [
    {
     "data": {
      "text/plain": [
       "Text(0, 0.5, 'Prediction')"
      ]
     },
     "execution_count": 8,
     "metadata": {},
     "output_type": "execute_result"
    },
    {
     "data": {
      "image/png": "[encoded data removed]",
      "text/plain": [
       "<Figure size 432x288 with 1 Axes>"
      ]
     },
     "metadata": {
      "needs_background": "light"
     },
     "output_type": "display_data"
    }
   ],
   "source": [
    "validation_predictions_3_before_training = model.predict(validation_examples_3)\n",
    "plt.scatter(validation_targets_3, validation_predictions_3_before_training)\n",
    "plt.title(\"Untrained prediction vs True value\")\n",
    "plt.xlabel(\"True value\")\n",
    "plt.ylabel(\"Prediction\")"
   ]
  },
  {
   "cell_type": "markdown",
   "metadata": {},
   "source": [
    "## Train the model"
   ]
  },
  {
   "cell_type": "code",
   "execution_count": 9,
   "metadata": {},
   "outputs": [
    {
     "name": "stdout",
     "output_type": "stream",
     "text": [
      "Epoch 1/100\n",
      "1596/1596 [==============================] - 1s 561us/step - loss: 0.1755\n",
      "Epoch 2/100\n",
      "1596/1596 [==============================] - 0s 242us/step - loss: 0.1446\n",
      "Epoch 3/100\n",
      "1596/1596 [==============================] - 0s 235us/step - loss: 0.1228\n",
      "Epoch 4/100\n",
      "1596/1596 [==============================] - 0s 228us/step - loss: 0.1232\n",
      "Epoch 5/100\n",
      "1596/1596 [==============================] - 0s 224us/step - loss: 0.1114\n",
      "Epoch 6/100\n",
      "1596/1596 [==============================] - 0s 246us/step - loss: 0.1067\n",
      "Epoch 7/100\n",
      "1596/1596 [==============================] - 0s 226us/step - loss: 0.1038\n",
      "Epoch 8/100\n",
      "1596/1596 [==============================] - 0s 215us/step - loss: 0.1042\n",
      "Epoch 9/100\n",
      "1596/1596 [==============================] - 0s 242us/step - loss: 0.0935\n",
      "Epoch 10/100\n",
      "1596/1596 [==============================] - 0s 234us/step - loss: 0.0913\n",
      "Epoch 11/100\n",
      "1596/1596 [==============================] - 0s 263us/step - loss: 0.0949\n",
      "Epoch 12/100\n",
      "1596/1596 [==============================] - 0s 240us/step - loss: 0.0811\n",
      "Epoch 13/100\n",
      "1596/1596 [==============================] - 0s 243us/step - loss: 0.0880\n",
      "Epoch 14/100\n",
      "1596/1596 [==============================] - 0s 254us/step - loss: 0.0887\n",
      "Epoch 15/100\n",
      "1596/1596 [==============================] - 0s 244us/step - loss: 0.0763\n",
      "Epoch 16/100\n",
      "1596/1596 [==============================] - 0s 254us/step - loss: 0.0747\n",
      "Epoch 17/100\n",
      "1596/1596 [==============================] - 0s 252us/step - loss: 0.0794\n",
      "Epoch 18/100\n",
      "1596/1596 [==============================] - 0s 257us/step - loss: 0.0829\n",
      "Epoch 19/100\n",
      "1596/1596 [==============================] - 0s 246us/step - loss: 0.0818\n",
      "Epoch 20/100\n",
      "1596/1596 [==============================] - 0s 252us/step - loss: 0.0824\n",
      "Epoch 21/100\n",
      "1596/1596 [==============================] - 0s 238us/step - loss: 0.0812\n",
      "Epoch 22/100\n",
      "1596/1596 [==============================] - 0s 236us/step - loss: 0.0770\n",
      "Epoch 23/100\n",
      "1596/1596 [==============================] - 0s 273us/step - loss: 0.0847\n",
      "Epoch 24/100\n",
      "1596/1596 [==============================] - 0s 271us/step - loss: 0.0736\n",
      "Epoch 25/100\n",
      "1596/1596 [==============================] - 0s 241us/step - loss: 0.0744\n",
      "Epoch 26/100\n",
      "1596/1596 [==============================] - 0s 235us/step - loss: 0.0709\n",
      "Epoch 27/100\n",
      "1596/1596 [==============================] - 0s 239us/step - loss: 0.0690\n",
      "Epoch 28/100\n",
      "1596/1596 [==============================] - 0s 236us/step - loss: 0.0849\n",
      "Epoch 29/100\n",
      "1596/1596 [==============================] - 0s 238us/step - loss: 0.0678\n",
      "Epoch 30/100\n",
      "1596/1596 [==============================] - 0s 227us/step - loss: 0.0756\n",
      "Epoch 31/100\n",
      "1596/1596 [==============================] - 0s 241us/step - loss: 0.0690\n",
      "Epoch 32/100\n",
      "1596/1596 [==============================] - 0s 247us/step - loss: 0.0704\n",
      "Epoch 33/100\n",
      "1596/1596 [==============================] - 0s 251us/step - loss: 0.0813\n",
      "Epoch 34/100\n",
      "1596/1596 [==============================] - 0s 239us/step - loss: 0.0760\n",
      "Epoch 35/100\n",
      "1596/1596 [==============================] - 0s 248us/step - loss: 0.0764\n",
      "Epoch 36/100\n",
      "1596/1596 [==============================] - 0s 229us/step - loss: 0.0770\n",
      "Epoch 37/100\n",
      "1596/1596 [==============================] - 0s 236us/step - loss: 0.0698\n",
      "Epoch 38/100\n",
      "1596/1596 [==============================] - 0s 246us/step - loss: 0.0749\n",
      "Epoch 39/100\n",
      "1596/1596 [==============================] - 0s 259us/step - loss: 0.0759\n",
      "Epoch 40/100\n",
      "1596/1596 [==============================] - 0s 260us/step - loss: 0.0646\n",
      "Epoch 41/100\n",
      "1596/1596 [==============================] - 0s 270us/step - loss: 0.0707\n",
      "Epoch 42/100\n",
      "1596/1596 [==============================] - 0s 262us/step - loss: 0.0713\n",
      "Epoch 43/100\n",
      "1596/1596 [==============================] - 0s 268us/step - loss: 0.0727\n",
      "Epoch 44/100\n",
      "1596/1596 [==============================] - 0s 252us/step - loss: 0.0744\n",
      "Epoch 45/100\n",
      "1596/1596 [==============================] - 0s 218us/step - loss: 0.0726\n",
      "Epoch 46/100\n",
      "1596/1596 [==============================] - 0s 241us/step - loss: 0.0682\n",
      "Epoch 47/100\n",
      "1596/1596 [==============================] - 0s 223us/step - loss: 0.0663\n",
      "Epoch 48/100\n",
      "1596/1596 [==============================] - 0s 231us/step - loss: 0.0690\n",
      "Epoch 49/100\n",
      "1596/1596 [==============================] - 0s 234us/step - loss: 0.0691\n",
      "Epoch 50/100\n",
      "1596/1596 [==============================] - 0s 230us/step - loss: 0.0749\n",
      "Epoch 51/100\n",
      "1596/1596 [==============================] - 0s 239us/step - loss: 0.0705\n",
      "Epoch 52/100\n",
      "1596/1596 [==============================] - 0s 247us/step - loss: 0.0778\n",
      "Epoch 53/100\n",
      "1596/1596 [==============================] - 0s 245us/step - loss: 0.0714\n",
      "Epoch 54/100\n",
      "1596/1596 [==============================] - 0s 240us/step - loss: 0.0658\n",
      "Epoch 55/100\n",
      "1596/1596 [==============================] - 0s 256us/step - loss: 0.0690\n",
      "Epoch 56/100\n",
      "1596/1596 [==============================] - 0s 257us/step - loss: 0.0664\n",
      "Epoch 57/100\n",
      "1596/1596 [==============================] - 0s 271us/step - loss: 0.0669\n",
      "Epoch 58/100\n",
      "1596/1596 [==============================] - 0s 260us/step - loss: 0.0706\n",
      "Epoch 59/100\n",
      "1596/1596 [==============================] - 0s 250us/step - loss: 0.0682\n",
      "Epoch 60/100\n",
      "1596/1596 [==============================] - 0s 236us/step - loss: 0.0669\n",
      "Epoch 61/100\n",
      "1596/1596 [==============================] - 0s 238us/step - loss: 0.0718\n",
      "Epoch 62/100\n",
      "1596/1596 [==============================] - 0s 228us/step - loss: 0.0688\n",
      "Epoch 63/100\n",
      "1596/1596 [==============================] - 0s 237us/step - loss: 0.0754\n",
      "Epoch 64/100\n",
      "1596/1596 [==============================] - 0s 233us/step - loss: 0.0627\n",
      "Epoch 65/100\n",
      "1596/1596 [==============================] - 0s 245us/step - loss: 0.0654\n",
      "Epoch 66/100\n",
      "1596/1596 [==============================] - 0s 236us/step - loss: 0.0672\n",
      "Epoch 67/100\n",
      "1596/1596 [==============================] - 0s 249us/step - loss: 0.0728\n",
      "Epoch 68/100\n",
      "1596/1596 [==============================] - 0s 227us/step - loss: 0.0630\n",
      "Epoch 69/100\n",
      "1596/1596 [==============================] - 0s 234us/step - loss: 0.0631\n",
      "Epoch 70/100\n",
      "1596/1596 [==============================] - 0s 240us/step - loss: 0.0694\n",
      "Epoch 71/100\n",
      "1596/1596 [==============================] - 0s 228us/step - loss: 0.0707\n",
      "Epoch 72/100\n",
      "1596/1596 [==============================] - 0s 244us/step - loss: 0.0674\n",
      "Epoch 73/100\n",
      "1596/1596 [==============================] - 0s 232us/step - loss: 0.0696\n",
      "Epoch 74/100\n",
      "1596/1596 [==============================] - 0s 239us/step - loss: 0.0601\n",
      "Epoch 75/100\n",
      "1596/1596 [==============================] - 0s 245us/step - loss: 0.0673\n",
      "Epoch 76/100\n",
      "1596/1596 [==============================] - 0s 232us/step - loss: 0.0686\n",
      "Epoch 77/100\n",
      "1596/1596 [==============================] - 0s 234us/step - loss: 0.0706\n",
      "Epoch 78/100\n",
      "1596/1596 [==============================] - 0s 224us/step - loss: 0.0639\n",
      "Epoch 79/100\n",
      "1596/1596 [==============================] - 0s 253us/step - loss: 0.0657\n",
      "Epoch 80/100\n",
      "1596/1596 [==============================] - 0s 240us/step - loss: 0.0729\n",
      "Epoch 81/100\n",
      "1596/1596 [==============================] - 0s 234us/step - loss: 0.0686\n",
      "Epoch 82/100\n",
      "1596/1596 [==============================] - 0s 243us/step - loss: 0.0653\n",
      "Epoch 83/100\n",
      "1596/1596 [==============================] - 0s 232us/step - loss: 0.0636\n",
      "Epoch 84/100\n",
      "1596/1596 [==============================] - 0s 246us/step - loss: 0.0723\n",
      "Epoch 85/100\n",
      "1596/1596 [==============================] - 0s 247us/step - loss: 0.0643\n",
      "Epoch 86/100\n",
      "1596/1596 [==============================] - 0s 239us/step - loss: 0.0606\n",
      "Epoch 87/100\n",
      "1596/1596 [==============================] - 0s 247us/step - loss: 0.0619\n",
      "Epoch 88/100\n",
      "1596/1596 [==============================] - 0s 234us/step - loss: 0.0712\n",
      "Epoch 89/100\n",
      "1596/1596 [==============================] - 0s 262us/step - loss: 0.0652\n",
      "Epoch 90/100\n",
      "1596/1596 [==============================] - 0s 235us/step - loss: 0.0629\n",
      "Epoch 91/100\n",
      "1596/1596 [==============================] - 0s 232us/step - loss: 0.0635\n",
      "Epoch 92/100\n",
      "1596/1596 [==============================] - 0s 252us/step - loss: 0.0668\n",
      "Epoch 93/100\n",
      "1596/1596 [==============================] - 0s 238us/step - loss: 0.0665\n",
      "Epoch 94/100\n",
      "1596/1596 [==============================] - 0s 235us/step - loss: 0.0768\n",
      "Epoch 95/100\n"
     ]
    },
    {
     "name": "stdout",
     "output_type": "stream",
     "text": [
      "1596/1596 [==============================] - 0s 252us/step - loss: 0.0670\n",
      "Epoch 96/100\n",
      "1596/1596 [==============================] - 0s 223us/step - loss: 0.0639\n",
      "Epoch 97/100\n",
      "1596/1596 [==============================] - 0s 247us/step - loss: 0.0610\n",
      "Epoch 98/100\n",
      "1596/1596 [==============================] - 0s 230us/step - loss: 0.0704\n",
      "Epoch 99/100\n",
      "1596/1596 [==============================] - 0s 237us/step - loss: 0.0682\n",
      "Epoch 100/100\n",
      "1596/1596 [==============================] - 0s 246us/step - loss: 0.0733\n"
     ]
    },
    {
     "data": {
      "text/plain": [
       "<keras.callbacks.History at 0x1a2c4ff828>"
      ]
     },
     "execution_count": 9,
     "metadata": {},
     "output_type": "execute_result"
    }
   ],
   "source": [
    "model.fit(training_examples_3, training_targets_3, batch_size=8, epochs=100)"
   ]
  },
  {
   "cell_type": "markdown",
   "metadata": {},
   "source": [
    "## Run on trained model"
   ]
  },
  {
   "cell_type": "code",
   "execution_count": 10,
   "metadata": {},
   "outputs": [
    {
     "data": {
      "text/plain": [
       "Text(0, 0.5, 'Prediction')"
      ]
     },
     "execution_count": 10,
     "metadata": {},
     "output_type": "execute_result"
    },
    {
     "data": {
      "image/png": "[encoded data removed]",
      "text/plain": [
       "<Figure size 432x288 with 1 Axes>"
      ]
     },
     "metadata": {
      "needs_background": "light"
     },
     "output_type": "display_data"
    }
   ],
   "source": [
    "validation_predictions_3_before_training = model.predict(validation_examples_3)\n",
    "plt.scatter(validation_targets_3, validation_predictions_3_before_training)\n",
    "plt.title(\"Validation Set - Trained predictions vs True value\")\n",
    "plt.xlabel(\"True value\")\n",
    "plt.ylabel(\"Prediction\")"
   ]
  },
  {
   "cell_type": "code",
   "execution_count": 11,
   "metadata": {},
   "outputs": [
    {
     "data": {
      "text/plain": [
       "Text(0, 0.5, 'Prediction')"
      ]
     },
     "execution_count": 11,
     "metadata": {},
     "output_type": "execute_result"
    },
    {
     "data": {
      "image/png": "[encoded data removed]",
      "text/plain": [
       "<Figure size 432x288 with 1 Axes>"
      ]
     },
     "metadata": {
      "needs_background": "light"
     },
     "output_type": "display_data"
    }
   ],
   "source": [
    "test_predictions_3_after_training = model.predict(test_examples_3)\n",
    "plt.scatter(test_targets_3, test_predictions_3_after_training)\n",
    "plt.title(\"Validation Set - Trained predictions vs True value\")\n",
    "plt.xlabel(\"True value\")\n",
    "plt.ylabel(\"Prediction\")"
   ]
  },
  {
   "cell_type": "markdown",
   "metadata": {},
   "source": [
    "### Run bias analytics"
   ]
  },
  {
   "cell_type": "code",
   "execution_count": 12,
   "metadata": {},
   "outputs": [
    {
     "data": {
      "text/plain": [
       "[<matplotlib.lines.Line2D at 0x1a2bf73a58>]"
      ]
     },
     "execution_count": 12,
     "metadata": {},
     "output_type": "execute_result"
    },
    {
     "data": {
      "image/png": "[encoded data removed]",
      "text/plain": [
       "<Figure size 1440x576 with 4 Axes>"
      ]
     },
     "metadata": {
      "needs_background": "light"
     },
     "output_type": "display_data"
    }
   ],
   "source": [
    "new_error = test_predictions_3_after_training - test_targets_3\n",
    "\n",
    "ERROR_LABEL = 'Error [Crime Rate Per Population]'\n",
    "\n",
    "fig = plt.figure(figsize=(20, 8))\n",
    "ax = fig.add_subplot(141)\n",
    "ax.set_title(\"Test Data - Error racePctWhite\")\n",
    "\n",
    "ax.set_xlabel(\"racePctWhite\")\n",
    "ax.set_ylabel(ERROR_LABEL)\n",
    "plt.scatter(test_examples_3.racePctWhite,new_error)\n",
    "b, m = polyfit(test_examples_3.racePctWhite, new_error, 1)\n",
    "plt.plot(test_examples_3.racePctWhite,  b + m *test_examples_3.racePctWhite, '-')\n",
    "\n",
    "ax = plt.subplot(142)\n",
    "ax.set_title(\"Test Data - Error vs racePctBlack\")\n",
    "\n",
    "ax.set_xlabel(\"racePctBlack\")\n",
    "ax.set_ylabel(ERROR_LABEL)\n",
    "plt.scatter(test_examples_3.racepctblack, new_error)\n",
    "b, m = polyfit(test_examples_3.racepctblack, new_error, 1)\n",
    "plt.plot(test_examples_3.racepctblack,  b + m *test_examples_3.racepctblack, '-')\n",
    "\n",
    "ax = plt.subplot(143)\n",
    "ax.set_title(\"Test Data - Error vs racePctAsian\")\n",
    "plt.scatter(test_examples_3.racePctAsian, new_error)\n",
    "ax.set_xlabel(\"racepctAsian\")\n",
    "ax.set_ylabel(ERROR_LABEL)\n",
    "b, m = polyfit(test_examples_3.racePctAsian, new_error, 1)\n",
    "plt.plot(test_examples_3.racePctAsian,  b + m *test_examples_3.racePctAsian, '-')\n",
    "              \n",
    "ax = plt.subplot(144)\n",
    "ax.set_title(\"Test Data - Error vs racepctHisp\")\n",
    "plt.scatter(test_examples_3.racePctHisp, new_error)\n",
    "ax.set_xlabel(\"racepctHisp\")\n",
    "ax.set_ylabel(ERROR_LABEL)\n",
    "b, m = polyfit(test_examples_3.racePctHisp, new_error, 1)\n",
    "plt.plot(test_examples_3.racePctHisp,  b + m *test_examples_3.racePctHisp, '-')"
   ]
  },
  {
   "cell_type": "code",
   "execution_count": null,
   "metadata": {},
   "outputs": [],
   "source": []
  }
 ],
 "metadata": {
  "kernelspec": {
   "display_name": "Python 3",
   "language": "python",
   "name": "python3"
  },
  "language_info": {
   "codemirror_mode": {
    "name": "ipython",
    "version": 3
   },
   "file_extension": ".py",
   "mimetype": "text/x-python",
   "name": "python",
   "nbconvert_exporter": "python",
   "pygments_lexer": "ipython3",
   "version": "3.7.3"
  }
 },
 "nbformat": 4,
 "nbformat_minor": 2
}
